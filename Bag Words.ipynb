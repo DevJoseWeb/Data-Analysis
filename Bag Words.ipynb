{
 "cells": [
  {
   "cell_type": "code",
   "execution_count": 1,
   "metadata": {
    "collapsed": true
   },
   "outputs": [],
   "source": [
    "from G1_categorizer import worker"
   ]
  },
  {
   "cell_type": "code",
   "execution_count": 2,
   "metadata": {
    "collapsed": true
   },
   "outputs": [],
   "source": [
    "from nltk.corpus import stopwords\n",
    "stops = set(stopwords.words(\"portuguese\"))"
   ]
  },
  {
   "cell_type": "code",
   "execution_count": 4,
   "metadata": {
    "collapsed": false
   },
   "outputs": [
    {
     "name": "stdout",
     "output_type": "stream",
     "text": [
      "vendas indústria farmacêutica brasileira cresceram somando r bilhões segundo levantamento realizado interfarma associação representa laboratórios farmacêuticos país partir dados ims health dez principais grupos farmacêuticos faturaram juntos r bilhões ano passado correspondendo mercado varejista segundo interfarma valor reflete preço lista medicamentos considerar eventuais descontos farmácias crescimento nominal receita vendas remédios país ficou acima inflação ficou índice preços consumidor amplo ipca segundo ibge medicamentos ficaram caros taxa elevada desde ficou categorias pressionaram inflação ano passado segundo levantamento receita vendas genéricos representam mercado subiu subiu categoria remédios líder faturamento classe analgésicos narcótico antipiréticos faturamento r bilhões total seguida antidepressivos estabilizadores humor vendas r bilhões crescimento comparação terceira posição ficaram preparações reguladoras colesterol triglicerídeos receita r bilhões\n",
      "CPU times: user 64 ms, sys: 0 ns, total: 64 ms\n",
      "Wall time: 2.58 s\n"
     ]
    }
   ],
   "source": [
    "%time print worker('http://g1.globo.com/economia/noticia/receita-com-vendas-de-remedios-cresce-131-em-2016-diz-interfarma.ghtml', stops)"
   ]
  },
  {
   "cell_type": "code",
   "execution_count": 5,
   "metadata": {
    "collapsed": true
   },
   "outputs": [],
   "source": [
    "from G1_categorizer import worker"
   ]
  },
  {
   "cell_type": "code",
   "execution_count": 6,
   "metadata": {
    "collapsed": false
   },
   "outputs": [
    {
     "name": "stdout",
     "output_type": "stream",
     "text": [
      "CPU times: user 84 ms, sys: 0 ns, total: 84 ms\n",
      "Wall time: 640 ms\n"
     ]
    },
    {
     "data": {
      "text/plain": [
       "u'vendas ind stria farmac utica brasileira cresceram somando r bilh es segundo levantamento realizado interfarma associa representa laborat rios farmac uticos pa s partir dados ims health dez principais grupos farmac uticos faturaram juntos r bilh es ano passado correspondendo mercado varejista segundo interfarma valor reflete pre lista medicamentos considerar eventuais descontos farm cias crescimento nominal receita vendas rem dios pa s ficou acima infla ficou ndice pre consumidor amplo ipca segundo ibge medicamentos ficaram caros taxa elevada desde ficou categorias pressionaram infla ano passado segundo levantamento receita vendas gen ricos representam mercado subiu subiu categoria rem dios l der faturamento classe analg sicos n narc tico antipir ticos faturamento r bilh es total seguida est antidepressivos estabilizadores humor vendas r bilh es crescimento compara terceira posi ficaram prepara es reguladoras colesterol triglicer deos receita r bilh es'"
      ]
     },
     "execution_count": 6,
     "metadata": {},
     "output_type": "execute_result"
    }
   ],
   "source": [
    "%time worker('http://g1.globo.com/economia/noticia/receita-com-vendas-de-remedios-cresce-131-em-2016-diz-interfarma.ghtml', stops)"
   ]
  },
  {
   "cell_type": "code",
   "execution_count": 7,
   "metadata": {
    "collapsed": false
   },
   "outputs": [],
   "source": [
    "import pandas as pd\n",
    "from pandas import DataFrame"
   ]
  },
  {
   "cell_type": "code",
   "execution_count": 8,
   "metadata": {
    "collapsed": true
   },
   "outputs": [],
   "source": [
    "bag_df = pd.read_csv('bag_words.csv', sep=';')"
   ]
  },
  {
   "cell_type": "code",
   "execution_count": 9,
   "metadata": {
    "collapsed": false
   },
   "outputs": [],
   "source": [
    "bag_df.columns = ['link', 'categoria', 'texto']"
   ]
  },
  {
   "cell_type": "code",
   "execution_count": 13,
   "metadata": {
    "collapsed": true
   },
   "outputs": [],
   "source": []
  },
  {
   "cell_type": "code",
   "execution_count": 10,
   "metadata": {
    "collapsed": false
   },
   "outputs": [
    {
     "data": {
      "text/html": [
       "<div>\n",
       "<table border=\"1\" class=\"dataframe\">\n",
       "  <thead>\n",
       "    <tr style=\"text-align: right;\">\n",
       "      <th></th>\n",
       "      <th>link</th>\n",
       "      <th>categoria</th>\n",
       "      <th>texto</th>\n",
       "    </tr>\n",
       "  </thead>\n",
       "  <tbody>\n",
       "    <tr>\n",
       "      <th>0</th>\n",
       "      <td>http://g1.globo.com/economia/negocios/noticia/...</td>\n",
       "      <td>agro</td>\n",
       "      <td>vale anunciou manhã desta segundafeira venda a...</td>\n",
       "    </tr>\n",
       "    <tr>\n",
       "      <th>1</th>\n",
       "      <td>http://g1.globo.com/economia/noticia/receita-c...</td>\n",
       "      <td>ciencia-e-saude</td>\n",
       "      <td>faturamento venda remédios país somou r bilhõe...</td>\n",
       "    </tr>\n",
       "    <tr>\n",
       "      <th>2</th>\n",
       "      <td>http://g1.globo.com/economia/agronegocios/noti...</td>\n",
       "      <td>agro</td>\n",
       "      <td>etanol sobe estados df cai fica estável ap pe ...</td>\n",
       "    </tr>\n",
       "    <tr>\n",
       "      <th>3</th>\n",
       "      <td>http://g1.globo.com/bemestar/noticia/entenda-a...</td>\n",
       "      <td>ciencia-e-saude</td>\n",
       "      <td>nutella leva óleo palma composição europa aler...</td>\n",
       "    </tr>\n",
       "    <tr>\n",
       "      <th>4</th>\n",
       "      <td>http://g1.globo.com/distrito-federal/noticia/p...</td>\n",
       "      <td>ciencia-e-saude</td>\n",
       "      <td>procura vacina aumentou divulgada primeira mor...</td>\n",
       "    </tr>\n",
       "  </tbody>\n",
       "</table>\n",
       "</div>"
      ],
      "text/plain": [
       "                                                link        categoria  \\\n",
       "0  http://g1.globo.com/economia/negocios/noticia/...             agro   \n",
       "1  http://g1.globo.com/economia/noticia/receita-c...  ciencia-e-saude   \n",
       "2  http://g1.globo.com/economia/agronegocios/noti...             agro   \n",
       "3  http://g1.globo.com/bemestar/noticia/entenda-a...  ciencia-e-saude   \n",
       "4  http://g1.globo.com/distrito-federal/noticia/p...  ciencia-e-saude   \n",
       "\n",
       "                                               texto  \n",
       "0  vale anunciou manhã desta segundafeira venda a...  \n",
       "1  faturamento venda remédios país somou r bilhõe...  \n",
       "2  etanol sobe estados df cai fica estável ap pe ...  \n",
       "3  nutella leva óleo palma composição europa aler...  \n",
       "4  procura vacina aumentou divulgada primeira mor...  "
      ]
     },
     "execution_count": 10,
     "metadata": {},
     "output_type": "execute_result"
    }
   ],
   "source": [
    "bag_df.head()"
   ]
  },
  {
   "cell_type": "code",
   "execution_count": 11,
   "metadata": {
    "collapsed": false
   },
   "outputs": [
    {
     "name": "stdout",
     "output_type": "stream",
     "text": [
      "<class 'pandas.core.frame.DataFrame'>\n",
      "RangeIndex: 76 entries, 0 to 75\n",
      "Data columns (total 3 columns):\n",
      "link         76 non-null object\n",
      "categoria    76 non-null object\n",
      "texto        75 non-null object\n",
      "dtypes: object(3)\n",
      "memory usage: 1.9+ KB\n"
     ]
    }
   ],
   "source": [
    "bag_df.info()"
   ]
  },
  {
   "cell_type": "code",
   "execution_count": 12,
   "metadata": {
    "collapsed": false
   },
   "outputs": [
    {
     "data": {
      "text/html": [
       "<div>\n",
       "<table border=\"1\" class=\"dataframe\">\n",
       "  <thead>\n",
       "    <tr style=\"text-align: right;\">\n",
       "      <th></th>\n",
       "      <th>link</th>\n",
       "      <th>categoria</th>\n",
       "      <th>texto</th>\n",
       "    </tr>\n",
       "  </thead>\n",
       "  <tbody>\n",
       "    <tr>\n",
       "      <th>count</th>\n",
       "      <td>76</td>\n",
       "      <td>76</td>\n",
       "      <td>75</td>\n",
       "    </tr>\n",
       "    <tr>\n",
       "      <th>unique</th>\n",
       "      <td>76</td>\n",
       "      <td>6</td>\n",
       "      <td>75</td>\n",
       "    </tr>\n",
       "    <tr>\n",
       "      <th>top</th>\n",
       "      <td>http://educacao.estadao.com.br/blogs/blog-da-t...</td>\n",
       "      <td>ciencia-e-saude</td>\n",
       "      <td>nada fazia parar falar fala desordenada repeti...</td>\n",
       "    </tr>\n",
       "    <tr>\n",
       "      <th>freq</th>\n",
       "      <td>1</td>\n",
       "      <td>20</td>\n",
       "      <td>1</td>\n",
       "    </tr>\n",
       "  </tbody>\n",
       "</table>\n",
       "</div>"
      ],
      "text/plain": [
       "                                                     link        categoria  \\\n",
       "count                                                  76               76   \n",
       "unique                                                 76                6   \n",
       "top     http://educacao.estadao.com.br/blogs/blog-da-t...  ciencia-e-saude   \n",
       "freq                                                    1               20   \n",
       "\n",
       "                                                    texto  \n",
       "count                                                  75  \n",
       "unique                                                 75  \n",
       "top     nada fazia parar falar fala desordenada repeti...  \n",
       "freq                                                    1  "
      ]
     },
     "execution_count": 12,
     "metadata": {},
     "output_type": "execute_result"
    }
   ],
   "source": [
    "bag_df.describe()"
   ]
  },
  {
   "cell_type": "code",
   "execution_count": 13,
   "metadata": {
    "collapsed": true
   },
   "outputs": [],
   "source": [
    "from sklearn.feature_extraction.text import CountVectorizer"
   ]
  },
  {
   "cell_type": "code",
   "execution_count": 17,
   "metadata": {
    "collapsed": true
   },
   "outputs": [],
   "source": [
    "vectorizer = CountVectorizer(analyzer = \"word\", tokenizer = None, preprocessor = None, stop_words = None)"
   ]
  },
  {
   "cell_type": "code",
   "execution_count": null,
   "metadata": {
    "collapsed": false
   },
   "outputs": [],
   "source": []
  },
  {
   "cell_type": "code",
   "execution_count": 22,
   "metadata": {
    "collapsed": false
   },
   "outputs": [],
   "source": [
    "train_data_features = vectorizer.fit_transform(list(bag_df.texto.dropna()))"
   ]
  },
  {
   "cell_type": "code",
   "execution_count": 23,
   "metadata": {
    "collapsed": true
   },
   "outputs": [],
   "source": [
    "train_data_features = train_data_features.toarray()"
   ]
  },
  {
   "cell_type": "code",
   "execution_count": 24,
   "metadata": {
    "collapsed": false
   },
   "outputs": [
    {
     "name": "stdout",
     "output_type": "stream",
     "text": [
      "(75, 6146)\n"
     ]
    }
   ],
   "source": [
    "print train_data_features.shape"
   ]
  },
  {
   "cell_type": "code",
   "execution_count": 25,
   "metadata": {
    "collapsed": true
   },
   "outputs": [],
   "source": [
    "from sklearn.ensemble import RandomForestClassifier"
   ]
  },
  {
   "cell_type": "code",
   "execution_count": 26,
   "metadata": {
    "collapsed": true
   },
   "outputs": [],
   "source": [
    "forest = RandomForestClassifier(n_estimators = 100) "
   ]
  },
  {
   "cell_type": "code",
   "execution_count": 30,
   "metadata": {
    "collapsed": true
   },
   "outputs": [],
   "source": [
    "bag_df_clean = bag_df.dropna(how='any')"
   ]
  },
  {
   "cell_type": "code",
   "execution_count": 32,
   "metadata": {
    "collapsed": false
   },
   "outputs": [],
   "source": [
    "forest = forest.fit( train_data_features, bag_df_clean.categoria )"
   ]
  },
  {
   "cell_type": "code",
   "execution_count": 36,
   "metadata": {
    "collapsed": false
   },
   "outputs": [],
   "source": [
    "from G1_categorizer import *"
   ]
  },
  {
   "cell_type": "code",
   "execution_count": 44,
   "metadata": {
    "collapsed": false
   },
   "outputs": [
    {
     "name": "stdout",
     "output_type": "stream",
     "text": [
      "273\n",
      "relator diz mudança ajuda criar empregos luiz carlos hauly psdbpr áreas ciência tecnologia podem ter incentivos via orçamento estado s paulo janeiro h proposta reforma tributária tramita congresso criação nova cpmf abarcaria iof usada permitir redução contribuição previdenciária empregado empregador segundo deputado luiz carlos hauly relator proposta alívio fundamental permitir aumento emprego alíquotas acima sobre folha empregador retidos empregado anime contratar diz desonerações incentivos hoje existentes acabariam automaticamente mudança quiserem benefícios vão ter negociar tudo novo comigo fazendo reforma estrutural sistema consertar país privilégios diz ideia é incentivos áreas específicas ciência tecnologia dados via orçamento meio tributos ideia é novo iva imposto seletivo compartilhados união estados municípios calibragem divisão bolo feita base fotografia média últimos anos primeiros cinco anos haveria perda ninguém é regra ouro relator espera conseguir apoio proposta nesse período haveria discussão mudança forma partilha alguém achar vai perder reforma morre diz sexto ano haveria redistribuição bolo receitas união estados municípios acordo nova partilha conteúdo sobre\n"
     ]
    }
   ],
   "source": [
    "url = 'http://economia.estadao.com.br/noticias/geral,relator-diz-que-mudanca-ajuda-a-criar-empregos,70001636849'\n",
    "texts = []\n",
    "worker(url, '', texts)\n",
    "text = texts[0][2]\n",
    "print text"
   ]
  },
  {
   "cell_type": "code",
   "execution_count": 45,
   "metadata": {
    "collapsed": false
   },
   "outputs": [
    {
     "name": "stdout",
     "output_type": "stream",
     "text": [
      "  (0, 66)\t1\n",
      "  (0, 84)\t1\n",
      "  (0, 183)\t1\n",
      "  (0, 231)\t1\n",
      "  (0, 325)\t1\n",
      "  (0, 328)\t2\n",
      "  (0, 396)\t1\n",
      "  (0, 585)\t1\n",
      "  (0, 675)\t1\n",
      "  (0, 910)\t2\n",
      "  (0, 1053)\t1\n",
      "  (0, 1069)\t2\n",
      "  (0, 1275)\t1\n",
      "  (0, 1297)\t1\n",
      "  (0, 1364)\t1\n",
      "  (0, 1393)\t1\n",
      "  (0, 1483)\t1\n",
      "  (0, 1487)\t1\n",
      "  (0, 1571)\t1\n",
      "  (0, 1669)\t1\n",
      "  (0, 1740)\t1\n",
      "  (0, 1859)\t1\n",
      "  (0, 1910)\t4\n",
      "  (0, 2064)\t1\n",
      "  (0, 2065)\t1\n",
      "  :\t:\n",
      "  (0, 4585)\t1\n",
      "  (0, 4678)\t3\n",
      "  (0, 4808)\t1\n",
      "  (0, 4865)\t1\n",
      "  (0, 4908)\t1\n",
      "  (0, 4917)\t1\n",
      "  (0, 4928)\t3\n",
      "  (0, 4950)\t1\n",
      "  (0, 4978)\t3\n",
      "  (0, 5261)\t1\n",
      "  (0, 5274)\t1\n",
      "  (0, 5363)\t1\n",
      "  (0, 5375)\t2\n",
      "  (0, 5553)\t2\n",
      "  (0, 5587)\t2\n",
      "  (0, 5757)\t1\n",
      "  (0, 5758)\t1\n",
      "  (0, 5775)\t1\n",
      "  (0, 5833)\t2\n",
      "  (0, 5841)\t1\n",
      "  (0, 5882)\t1\n",
      "  (0, 5963)\t2\n",
      "  (0, 6065)\t1\n",
      "  (0, 6114)\t2\n",
      "  (0, 6140)\t1\n"
     ]
    }
   ],
   "source": [
    "x = vectorizer.transform([text])\n",
    "print x"
   ]
  },
  {
   "cell_type": "code",
   "execution_count": 46,
   "metadata": {
    "collapsed": false
   },
   "outputs": [
    {
     "name": "stdout",
     "output_type": "stream",
     "text": [
      "[[0 0 0 ..., 0 0 0]]\n"
     ]
    }
   ],
   "source": [
    "x = x.toarray()\n",
    "print x"
   ]
  },
  {
   "cell_type": "code",
   "execution_count": 47,
   "metadata": {
    "collapsed": false
   },
   "outputs": [
    {
     "data": {
      "text/plain": [
       "array(['ciencia-e-saude'], dtype=object)"
      ]
     },
     "execution_count": 47,
     "metadata": {},
     "output_type": "execute_result"
    }
   ],
   "source": [
    "forest.predict(x)"
   ]
  },
  {
   "cell_type": "code",
   "execution_count": null,
   "metadata": {
    "collapsed": true
   },
   "outputs": [],
   "source": []
  }
 ],
 "metadata": {
  "kernelspec": {
   "display_name": "Python 2",
   "language": "python",
   "name": "python2"
  },
  "language_info": {
   "codemirror_mode": {
    "name": "ipython",
    "version": 2
   },
   "file_extension": ".py",
   "mimetype": "text/x-python",
   "name": "python",
   "nbconvert_exporter": "python",
   "pygments_lexer": "ipython2",
   "version": "2.7.12"
  }
 },
 "nbformat": 4,
 "nbformat_minor": 1
}
