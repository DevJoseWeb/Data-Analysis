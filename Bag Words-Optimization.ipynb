{
 "cells": [
  {
   "cell_type": "code",
   "execution_count": 46,
   "metadata": {
    "collapsed": false
   },
   "outputs": [],
   "source": [
    "from __future__ import print_function\n",
    "from time import time\n",
    "\n",
    "import pandas as pd\n",
    "from pandas import DataFrame\n",
    "import matplotlib.pyplot as plt\n",
    "\n",
    "import numpy as np\n",
    "import sklearn\n",
    "from sklearn import metrics\n",
    "from sklearn.feature_extraction.text import CountVectorizer\n",
    "from sklearn.ensemble import RandomForestClassifier\n",
    "from sklearn.pipeline import Pipeline\n",
    "from sklearn.model_selection import cross_val_score\n",
    "from sklearn.linear_model import LogisticRegression\n",
    "from sklearn.naive_bayes import MultinomialNB\n",
    "from sklearn.feature_extraction.text import TfidfVectorizer\n",
    "from sklearn.model_selection import GridSearchCV\n",
    "\n",
    "%matplotlib inline"
   ]
  },
  {
   "cell_type": "code",
   "execution_count": 29,
   "metadata": {
    "collapsed": false
   },
   "outputs": [],
   "source": [
    "bag_df = pd.read_csv('bag_words.csv', sep=';', index_col=0)"
   ]
  },
  {
   "cell_type": "code",
   "execution_count": 30,
   "metadata": {
    "collapsed": false
   },
   "outputs": [],
   "source": [
    "bag_df.columns = ['link', 'categoria', 'texto']"
   ]
  },
  {
   "cell_type": "code",
   "execution_count": 31,
   "metadata": {
    "collapsed": false
   },
   "outputs": [
    {
     "data": {
      "text/html": [
       "<div>\n",
       "<table border=\"1\" class=\"dataframe\">\n",
       "  <thead>\n",
       "    <tr style=\"text-align: right;\">\n",
       "      <th></th>\n",
       "      <th>link</th>\n",
       "      <th>categoria</th>\n",
       "      <th>texto</th>\n",
       "    </tr>\n",
       "  </thead>\n",
       "  <tbody>\n",
       "    <tr>\n",
       "      <th>0</th>\n",
       "      <td>http://g1.globo.com/economia/agronegocios/agro...</td>\n",
       "      <td>agro</td>\n",
       "      <td>criação peixes cativeiro brasil expansão país ...</td>\n",
       "    </tr>\n",
       "    <tr>\n",
       "      <th>1</th>\n",
       "      <td>http://g1.globo.com/economia/negocios/noticia/...</td>\n",
       "      <td>agro</td>\n",
       "      <td>vale anunciou manhã desta segundafeira venda a...</td>\n",
       "    </tr>\n",
       "    <tr>\n",
       "      <th>2</th>\n",
       "      <td>http://g1.globo.com/economia/agronegocios/noti...</td>\n",
       "      <td>agro</td>\n",
       "      <td>acordo ibge abate somou milhões cabeças maior ...</td>\n",
       "    </tr>\n",
       "    <tr>\n",
       "      <th>3</th>\n",
       "      <td>http://g1.globo.com/sp/piracicaba-regiao/notic...</td>\n",
       "      <td>agro</td>\n",
       "      <td>universidade paulo usp piracicabasp anunciou i...</td>\n",
       "    </tr>\n",
       "    <tr>\n",
       "      <th>4</th>\n",
       "      <td>http://g1.globo.com/economia/midia-e-marketing...</td>\n",
       "      <td>agro</td>\n",
       "      <td>mcdonalds saladas compostas vegetais orgânicos...</td>\n",
       "    </tr>\n",
       "  </tbody>\n",
       "</table>\n",
       "</div>"
      ],
      "text/plain": [
       "                                                link categoria  \\\n",
       "0  http://g1.globo.com/economia/agronegocios/agro...      agro   \n",
       "1  http://g1.globo.com/economia/negocios/noticia/...      agro   \n",
       "2  http://g1.globo.com/economia/agronegocios/noti...      agro   \n",
       "3  http://g1.globo.com/sp/piracicaba-regiao/notic...      agro   \n",
       "4  http://g1.globo.com/economia/midia-e-marketing...      agro   \n",
       "\n",
       "                                               texto  \n",
       "0  criação peixes cativeiro brasil expansão país ...  \n",
       "1  vale anunciou manhã desta segundafeira venda a...  \n",
       "2  acordo ibge abate somou milhões cabeças maior ...  \n",
       "3  universidade paulo usp piracicabasp anunciou i...  \n",
       "4  mcdonalds saladas compostas vegetais orgânicos...  "
      ]
     },
     "execution_count": 31,
     "metadata": {},
     "output_type": "execute_result"
    }
   ],
   "source": [
    "bag_df.head()"
   ]
  },
  {
   "cell_type": "code",
   "execution_count": 32,
   "metadata": {
    "collapsed": false
   },
   "outputs": [
    {
     "name": "stdout",
     "output_type": "stream",
     "text": [
      "<class 'pandas.core.frame.DataFrame'>\n",
      "Int64Index: 705 entries, 0 to 704\n",
      "Data columns (total 3 columns):\n",
      "link         705 non-null object\n",
      "categoria    705 non-null object\n",
      "texto        694 non-null object\n",
      "dtypes: object(3)\n",
      "memory usage: 22.0+ KB\n"
     ]
    }
   ],
   "source": [
    "bag_df.info()"
   ]
  },
  {
   "cell_type": "code",
   "execution_count": 33,
   "metadata": {
    "collapsed": false
   },
   "outputs": [
    {
     "data": {
      "text/html": [
       "<div>\n",
       "<table border=\"1\" class=\"dataframe\">\n",
       "  <thead>\n",
       "    <tr style=\"text-align: right;\">\n",
       "      <th></th>\n",
       "      <th>link</th>\n",
       "      <th>categoria</th>\n",
       "      <th>texto</th>\n",
       "    </tr>\n",
       "  </thead>\n",
       "  <tbody>\n",
       "    <tr>\n",
       "      <th>count</th>\n",
       "      <td>705</td>\n",
       "      <td>705</td>\n",
       "      <td>694</td>\n",
       "    </tr>\n",
       "    <tr>\n",
       "      <th>unique</th>\n",
       "      <td>696</td>\n",
       "      <td>6</td>\n",
       "      <td>687</td>\n",
       "    </tr>\n",
       "    <tr>\n",
       "      <th>top</th>\n",
       "      <td>http://ciencia.estadao.com.br/blogs/herton-esc...</td>\n",
       "      <td>ciencia-e-saude</td>\n",
       "      <td>desafio manequim pessoas parkinson quer consci...</td>\n",
       "    </tr>\n",
       "    <tr>\n",
       "      <th>freq</th>\n",
       "      <td>2</td>\n",
       "      <td>146</td>\n",
       "      <td>2</td>\n",
       "    </tr>\n",
       "  </tbody>\n",
       "</table>\n",
       "</div>"
      ],
      "text/plain": [
       "                                                     link        categoria  \\\n",
       "count                                                 705              705   \n",
       "unique                                                696                6   \n",
       "top     http://ciencia.estadao.com.br/blogs/herton-esc...  ciencia-e-saude   \n",
       "freq                                                    2              146   \n",
       "\n",
       "                                                    texto  \n",
       "count                                                 694  \n",
       "unique                                                687  \n",
       "top     desafio manequim pessoas parkinson quer consci...  \n",
       "freq                                                    2  "
      ]
     },
     "execution_count": 33,
     "metadata": {},
     "output_type": "execute_result"
    }
   ],
   "source": [
    "bag_df.describe()"
   ]
  },
  {
   "cell_type": "code",
   "execution_count": 34,
   "metadata": {
    "collapsed": false
   },
   "outputs": [],
   "source": [
    "bag_df_clean = bag_df.dropna()\n",
    "X_train, X_test, Y_train, Y_test = sklearn.model_selection.train_test_split(\n",
    "    bag_df_clean.texto, bag_df_clean.categoria\n",
    ")"
   ]
  },
  {
   "cell_type": "code",
   "execution_count": 41,
   "metadata": {
    "collapsed": false
   },
   "outputs": [
    {
     "name": "stdout",
     "output_type": "stream",
     "text": [
      "Accuracy RandomForestClassifier with CountVectorizer: 0.66 (+/- 0.06)\n",
      "Accuracy RandomForestClassifier with TfidfVectorizer: 0.67 (+/- 0.08)\n",
      "Accuracy LogisticRegression with CountVectorizer: 0.79 (+/- 0.11)\n",
      "Accuracy LogisticRegression with TfidfVectorizer: 0.76 (+/- 0.12)\n",
      "Accuracy MultinomialNB with CountVectorizer: 0.80 (+/- 0.15)\n",
      "Accuracy MultinomialNB with TfidfVectorizer: 0.73 (+/- 0.10)\n"
     ]
    }
   ],
   "source": [
    "for Model in (RandomForestClassifier, LogisticRegression, MultinomialNB):\n",
    "    for Vect in (CountVectorizer, TfidfVectorizer):\n",
    "        vect = Vect()\n",
    "        model = Model()\n",
    "        pipe = Pipeline([('vect', vect), ('model', model)])\n",
    "        \n",
    "        scores = cross_val_score(pipe, bag_df_clean.texto, bag_df_clean.categoria, cv=5)\n",
    "        print(\"Accuracy %s with %s: %0.2f (+/- %0.2f)\" % (Model.__name__, Vect.__name__, scores.mean(), scores.std() * 2))"
   ]
  },
  {
   "cell_type": "code",
   "execution_count": 43,
   "metadata": {
    "collapsed": true
   },
   "outputs": [],
   "source": [
    "def report(results, n_top=3):\n",
    "    for i in range(1, n_top + 1):\n",
    "        candidates = np.flatnonzero(results['rank_test_score'] == i)\n",
    "        for candidate in candidates:\n",
    "            print(\"Model with rank: {0}\".format(i))\n",
    "            print(\"Mean validation score: {0:.3f} (std: {1:.3f})\".format(\n",
    "                  results['mean_test_score'][candidate],\n",
    "                  results['std_test_score'][candidate]))\n",
    "            print(\"Parameters: {0}\".format(results['params'][candidate]))\n",
    "            print(\"\")"
   ]
  },
  {
   "cell_type": "code",
   "execution_count": 51,
   "metadata": {
    "collapsed": true
   },
   "outputs": [],
   "source": [
    "parameters = {\n",
    "    'vect__max_df': (0.5, 0.75, 1.0),\n",
    "    #'vect__max_features': (None, 5000, 10000, 50000),\n",
    "    'vect__ngram_range': ((1, 1), (1, 2)),  # unigrams or bigrams\n",
    "    #'tfidf__use_idf': (True, False),\n",
    "    #'tfidf__norm': ('l1', 'l2'),\n",
    "    #'clf__alpha': (0.00001, 0.000001),\n",
    "    #'clf__penalty': ('l2', 'elasticnet'),\n",
    "    #'clf__n_iter': (10, 50, 80),\n",
    "}"
   ]
  },
  {
   "cell_type": "code",
   "execution_count": 53,
   "metadata": {
    "collapsed": false
   },
   "outputs": [
    {
     "name": "stdout",
     "output_type": "stream",
     "text": [
      "GridSearchCV with RandomForestClassifier and CountVectorizer took 14.63 seconds for 6 candidate parameter settings.\n",
      "Model with rank: 1\n",
      "Mean validation score: 0.650 (std: 0.046)\n",
      "Parameters: {'vect__ngram_range': (1, 1), 'vect__max_df': 1.0}\n",
      "\n",
      "Model with rank: 2\n",
      "Mean validation score: 0.648 (std: 0.018)\n",
      "Parameters: {'vect__ngram_range': (1, 1), 'vect__max_df': 0.75}\n",
      "\n",
      "Model with rank: 3\n",
      "Mean validation score: 0.644 (std: 0.041)\n",
      "Parameters: {'vect__ngram_range': (1, 1), 'vect__max_df': 0.5}\n",
      "\n",
      "\n",
      "GridSearchCV with RandomForestClassifier and TfidfVectorizer took 15.03 seconds for 6 candidate parameter settings.\n",
      "Model with rank: 1\n",
      "Mean validation score: 0.643 (std: 0.024)\n",
      "Parameters: {'vect__ngram_range': (1, 1), 'vect__max_df': 1.0}\n",
      "\n",
      "Model with rank: 2\n",
      "Mean validation score: 0.622 (std: 0.039)\n",
      "Parameters: {'vect__ngram_range': (1, 1), 'vect__max_df': 0.5}\n",
      "\n",
      "Model with rank: 3\n",
      "Mean validation score: 0.614 (std: 0.041)\n",
      "Parameters: {'vect__ngram_range': (1, 2), 'vect__max_df': 0.5}\n",
      "\n",
      "\n",
      "GridSearchCV with LogisticRegression and CountVectorizer took 26.34 seconds for 6 candidate parameter settings.\n",
      "Model with rank: 1\n",
      "Mean validation score: 0.761 (std: 0.044)\n",
      "Parameters: {'vect__ngram_range': (1, 2), 'vect__max_df': 0.5}\n",
      "\n",
      "Model with rank: 2\n",
      "Mean validation score: 0.759 (std: 0.044)\n",
      "Parameters: {'vect__ngram_range': (1, 2), 'vect__max_df': 0.75}\n",
      "\n",
      "Model with rank: 2\n",
      "Mean validation score: 0.759 (std: 0.044)\n",
      "Parameters: {'vect__ngram_range': (1, 2), 'vect__max_df': 1.0}\n",
      "\n",
      "\n",
      "GridSearchCV with LogisticRegression and TfidfVectorizer took 14.74 seconds for 6 candidate parameter settings.\n",
      "Model with rank: 1\n",
      "Mean validation score: 0.726 (std: 0.069)\n",
      "Parameters: {'vect__ngram_range': (1, 1), 'vect__max_df': 0.5}\n",
      "\n",
      "Model with rank: 1\n",
      "Mean validation score: 0.726 (std: 0.069)\n",
      "Parameters: {'vect__ngram_range': (1, 1), 'vect__max_df': 0.75}\n",
      "\n",
      "Model with rank: 1\n",
      "Mean validation score: 0.726 (std: 0.069)\n",
      "Parameters: {'vect__ngram_range': (1, 1), 'vect__max_df': 1.0}\n",
      "\n",
      "\n",
      "GridSearchCV with MultinomialNB and CountVectorizer took 11.79 seconds for 6 candidate parameter settings.\n",
      "Model with rank: 1\n",
      "Mean validation score: 0.784 (std: 0.056)\n",
      "Parameters: {'vect__ngram_range': (1, 1), 'vect__max_df': 0.5}\n",
      "\n",
      "Model with rank: 1\n",
      "Mean validation score: 0.784 (std: 0.056)\n",
      "Parameters: {'vect__ngram_range': (1, 1), 'vect__max_df': 0.75}\n",
      "\n",
      "Model with rank: 1\n",
      "Mean validation score: 0.784 (std: 0.056)\n",
      "Parameters: {'vect__ngram_range': (1, 1), 'vect__max_df': 1.0}\n",
      "\n",
      "\n",
      "GridSearchCV with MultinomialNB and TfidfVectorizer took 11.68 seconds for 6 candidate parameter settings.\n",
      "Model with rank: 1\n",
      "Mean validation score: 0.722 (std: 0.058)\n",
      "Parameters: {'vect__ngram_range': (1, 1), 'vect__max_df': 0.5}\n",
      "\n",
      "Model with rank: 1\n",
      "Mean validation score: 0.722 (std: 0.058)\n",
      "Parameters: {'vect__ngram_range': (1, 1), 'vect__max_df': 0.75}\n",
      "\n",
      "Model with rank: 1\n",
      "Mean validation score: 0.722 (std: 0.058)\n",
      "Parameters: {'vect__ngram_range': (1, 1), 'vect__max_df': 1.0}\n",
      "\n",
      "\n"
     ]
    }
   ],
   "source": [
    "for Model in (RandomForestClassifier, LogisticRegression, MultinomialNB):\n",
    "    for Vect in (CountVectorizer, TfidfVectorizer):\n",
    "        vect = Vect(analyzer = \"word\", tokenizer = None, preprocessor = None, stop_words = None)\n",
    "        model = Model()\n",
    "        pipe = Pipeline([('vect', vect), ('model', model)])\n",
    "        \n",
    "        grid_search = GridSearchCV(pipe, param_grid=parameters, n_jobs=1)\n",
    "        start = time()\n",
    "        grid_search.fit(bag_df_clean.texto, bag_df_clean.categoria)\n",
    "        \n",
    "        print(\"GridSearchCV with %s and %s took %.2f seconds for %d candidate parameter settings.\"\n",
    "          % (Model.__name__, Vect.__name__, time() - start, len(grid_search.cv_results_['params'])))\n",
    "        report(grid_search.cv_results_)\n",
    "        print(\"\")"
   ]
  },
  {
   "cell_type": "code",
   "execution_count": 76,
   "metadata": {
    "collapsed": true
   },
   "outputs": [],
   "source": [
    "parameters = {\n",
    "    #'vect__max_df': (0.5, 0.75, 1.0),\n",
    "    'vect__max_features': (None, ), #1000, 5000, 10000),\n",
    "    'vect__max_df': (1.0, ),\n",
    "    'vect__min_df': (0.0, ), #0.2, 0.4), #0.6, 0.8, 1.0),\n",
    "    'vect__binary': (False, ),\n",
    "    'vect__analyzer': ('word', ), #'char'),\n",
    "    #'vect__ngram_range': ((1, 1), (1, 2)),  # unigrams or bigrams\n",
    "    #'tfidf__use_idf': (True, False),\n",
    "    #'tfidf__norm': ('l1', 'l2'),\n",
    "    'model__alpha': (0.1, ), #(2.0, 1.0, 0.5, 0.1, 0.01),\n",
    "    'model__fit_prior': (False, ), #(True, False),\n",
    "    #'model__class_prior': (None, 1, 10, 50, 100),\n",
    "}"
   ]
  },
  {
   "cell_type": "code",
   "execution_count": 77,
   "metadata": {
    "collapsed": false
   },
   "outputs": [
    {
     "name": "stdout",
     "output_type": "stream",
     "text": [
      "GridSearchCV with MultinomialNB and CountVectorizer took 1.00 seconds for 1 candidate parameter settings.\n",
      "Model with rank: 1\n",
      "Mean validation score: 0.805 (std: 0.062)\n",
      "Parameters: {'vect__analyzer': 'word', 'model__alpha': 0.1, 'vect__max_df': 1.0, 'model__fit_prior': False, 'vect__binary': False, 'vect__min_df': 0.0, 'vect__max_features': None}\n",
      "\n",
      "\n"
     ]
    }
   ],
   "source": [
    "for Model in (MultinomialNB,):\n",
    "    for Vect in (CountVectorizer,):\n",
    "        vect = Vect()\n",
    "        model = Model()\n",
    "        pipe = Pipeline([('vect', vect), ('model', model)])\n",
    "        \n",
    "        grid_search = GridSearchCV(pipe, param_grid=parameters, n_jobs=1)\n",
    "        start = time()\n",
    "        grid_search.fit(bag_df_clean.texto, bag_df_clean.categoria)\n",
    "        \n",
    "        print(\"GridSearchCV with %s and %s took %.2f seconds for %d candidate parameter settings.\"\n",
    "          % (Model.__name__, Vect.__name__, time() - start, len(grid_search.cv_results_['params'])))\n",
    "        report(grid_search.cv_results_)\n",
    "        print(\"\")"
   ]
  },
  {
   "cell_type": "code",
   "execution_count": null,
   "metadata": {
    "collapsed": true
   },
   "outputs": [],
   "source": []
  }
 ],
 "metadata": {
  "kernelspec": {
   "display_name": "Python 2",
   "language": "python",
   "name": "python2"
  },
  "language_info": {
   "codemirror_mode": {
    "name": "ipython",
    "version": 2
   },
   "file_extension": ".py",
   "mimetype": "text/x-python",
   "name": "python",
   "nbconvert_exporter": "python",
   "pygments_lexer": "ipython2",
   "version": "2.7.12"
  }
 },
 "nbformat": 4,
 "nbformat_minor": 1
}
