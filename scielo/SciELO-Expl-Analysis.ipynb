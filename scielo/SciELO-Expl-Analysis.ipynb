{
 "cells": [
  {
   "cell_type": "markdown",
   "metadata": {},
   "source": [
    "# Analise Exploratória do dataset SciELO\n",
    "\n",
    "O [SciELO - Scientific Electronic Library Online](http://www.scielo.org) - divulga alguns datasets de publicações processadas e indexadas em suas bases de dados. Neste notebook vamos explorar o dataset Brasileiro, em especial o `journals.csv`\n",
    "\n",
    "Este e outros datasets podem ser baixados em: [https://analytics.scielo.org/w/reports](https://analytics.scielo.org/w/reports)\n",
    "\n",
    "A documentação esta disponível em: [http://docs.scielo.org/projects/scielo-processing/pt/latest/public_reports.html](http://docs.scielo.org/projects/scielo-processing/pt/latest/public_reports.html)"
   ]
  },
  {
   "cell_type": "markdown",
   "metadata": {},
   "source": [
    "## Baixando o dataset"
   ]
  },
  {
   "cell_type": "code",
   "execution_count": 6,
   "metadata": {},
   "outputs": [],
   "source": [
    "from urllib.request import urlretrieve\n",
    "from os.path import isfile, isdir\n",
    "from tqdm import tqdm\n",
    "import zipfile\n",
    "\n",
    "data_path = 'data/'\n",
    "file_path = data_path + 'tabs_bra.zip'\n",
    "\n",
    "class DLProgress(tqdm):\n",
    "    last_block = 0\n",
    "\n",
    "    def hook(self, block_num=1, block_size=1, total_size=None):\n",
    "        self.total = total_size\n",
    "        self.update((block_num - self.last_block) * block_size)\n",
    "        self.last_block = block_num\n",
    "\n",
    "if not isfile(file_path):\n",
    "    with DLProgress(unit='B', unit_scale=True, miniters=1, desc='SciELO Dataset') as pbar:\n",
    "        urlretrieve(\n",
    "            'https://static.scielo.org/tabs/tabs_bra.zip',\n",
    "            file_path,\n",
    "            pbar.hook\n",
    "        )\n",
    "\n",
    "#if not isdir(cifar10_dataset_folder_path):\n",
    "with zipfile.ZipFile(file_path) as zipf:\n",
    "    zipf.extractall(data_path)\n"
   ]
  },
  {
   "cell_type": "markdown",
   "metadata": {},
   "source": [
    "---\n",
    "Com os dados em disco, vamos importar os pacotes necessários para iniciar a analise com Pandas"
   ]
  },
  {
   "cell_type": "code",
   "execution_count": 44,
   "metadata": {
    "collapsed": true
   },
   "outputs": [],
   "source": [
    "import numpy as np\n",
    "import pandas as pd\n",
    "from pandas import DataFrame\n",
    "\n",
    "import matplotlib.pyplot as plt\n",
    "import seaborn as sns\n",
    "\n",
    "%matplotlib inline\n",
    "\n",
    "plt.style.use('seaborn-whitegrid')\n",
    "plt.rcParams['figure.figsize'] = (15, 5)"
   ]
  },
  {
   "cell_type": "code",
   "execution_count": 9,
   "metadata": {},
   "outputs": [
    {
     "data": {
      "text/html": [
       "<div>\n",
       "<style>\n",
       "    .dataframe thead tr:only-child th {\n",
       "        text-align: right;\n",
       "    }\n",
       "\n",
       "    .dataframe thead th {\n",
       "        text-align: left;\n",
       "    }\n",
       "\n",
       "    .dataframe tbody tr th {\n",
       "        vertical-align: top;\n",
       "    }\n",
       "</style>\n",
       "<table border=\"1\" class=\"dataframe\">\n",
       "  <thead>\n",
       "    <tr style=\"text-align: right;\">\n",
       "      <th></th>\n",
       "      <th>extraction date</th>\n",
       "      <th>study unit</th>\n",
       "      <th>collection</th>\n",
       "      <th>ISSN SciELO</th>\n",
       "      <th>ISSN's</th>\n",
       "      <th>title at SciELO</th>\n",
       "      <th>title thematic areas</th>\n",
       "      <th>title is agricultural sciences</th>\n",
       "      <th>title is applied social sciences</th>\n",
       "      <th>title is biological sciences</th>\n",
       "      <th>...</th>\n",
       "      <th>google scholar h5 2015</th>\n",
       "      <th>google scholar h5 2014</th>\n",
       "      <th>google scholar h5 2013</th>\n",
       "      <th>google scholar h5 2012</th>\n",
       "      <th>google scholar m5 2017</th>\n",
       "      <th>google scholar m5 2016</th>\n",
       "      <th>google scholar m5 2015</th>\n",
       "      <th>google scholar m5 2014</th>\n",
       "      <th>google scholar m5 2013</th>\n",
       "      <th>google scholar m5 2012</th>\n",
       "    </tr>\n",
       "  </thead>\n",
       "  <tbody>\n",
       "    <tr>\n",
       "      <th>0</th>\n",
       "      <td>2017-10-26</td>\n",
       "      <td>journal</td>\n",
       "      <td>scl</td>\n",
       "      <td>1676-5648</td>\n",
       "      <td>1676-5648</td>\n",
       "      <td>RAE eletrônica</td>\n",
       "      <td>Applied Social Sciences</td>\n",
       "      <td>0</td>\n",
       "      <td>1</td>\n",
       "      <td>0</td>\n",
       "      <td>...</td>\n",
       "      <td>NaN</td>\n",
       "      <td>NaN</td>\n",
       "      <td>10.0</td>\n",
       "      <td>NaN</td>\n",
       "      <td>NaN</td>\n",
       "      <td>NaN</td>\n",
       "      <td>NaN</td>\n",
       "      <td>NaN</td>\n",
       "      <td>16.0</td>\n",
       "      <td>NaN</td>\n",
       "    </tr>\n",
       "    <tr>\n",
       "      <th>1</th>\n",
       "      <td>2017-10-26</td>\n",
       "      <td>journal</td>\n",
       "      <td>scl</td>\n",
       "      <td>0101-8108</td>\n",
       "      <td>0101-8108</td>\n",
       "      <td>Revista de Psiquiatria do Rio Grande do Sul</td>\n",
       "      <td>Health Sciences</td>\n",
       "      <td>0</td>\n",
       "      <td>0</td>\n",
       "      <td>0</td>\n",
       "      <td>...</td>\n",
       "      <td>NaN</td>\n",
       "      <td>NaN</td>\n",
       "      <td>11.0</td>\n",
       "      <td>NaN</td>\n",
       "      <td>NaN</td>\n",
       "      <td>NaN</td>\n",
       "      <td>NaN</td>\n",
       "      <td>NaN</td>\n",
       "      <td>13.0</td>\n",
       "      <td>NaN</td>\n",
       "    </tr>\n",
       "    <tr>\n",
       "      <th>2</th>\n",
       "      <td>2017-10-26</td>\n",
       "      <td>journal</td>\n",
       "      <td>scl</td>\n",
       "      <td>0034-7701</td>\n",
       "      <td>0034-7701</td>\n",
       "      <td>Revista de Antropologia</td>\n",
       "      <td>Human Sciences</td>\n",
       "      <td>0</td>\n",
       "      <td>0</td>\n",
       "      <td>0</td>\n",
       "      <td>...</td>\n",
       "      <td>NaN</td>\n",
       "      <td>NaN</td>\n",
       "      <td>NaN</td>\n",
       "      <td>NaN</td>\n",
       "      <td>NaN</td>\n",
       "      <td>NaN</td>\n",
       "      <td>NaN</td>\n",
       "      <td>NaN</td>\n",
       "      <td>NaN</td>\n",
       "      <td>NaN</td>\n",
       "    </tr>\n",
       "    <tr>\n",
       "      <th>3</th>\n",
       "      <td>2017-10-26</td>\n",
       "      <td>journal</td>\n",
       "      <td>scl</td>\n",
       "      <td>0102-261X</td>\n",
       "      <td>0102-261X</td>\n",
       "      <td>Revista Brasileira de Geofísica</td>\n",
       "      <td>Exact and Earth Sciences</td>\n",
       "      <td>0</td>\n",
       "      <td>0</td>\n",
       "      <td>0</td>\n",
       "      <td>...</td>\n",
       "      <td>5.0</td>\n",
       "      <td>6.0</td>\n",
       "      <td>7.0</td>\n",
       "      <td>NaN</td>\n",
       "      <td>NaN</td>\n",
       "      <td>NaN</td>\n",
       "      <td>7.0</td>\n",
       "      <td>6.0</td>\n",
       "      <td>7.0</td>\n",
       "      <td>NaN</td>\n",
       "    </tr>\n",
       "    <tr>\n",
       "      <th>4</th>\n",
       "      <td>2017-10-26</td>\n",
       "      <td>journal</td>\n",
       "      <td>scl</td>\n",
       "      <td>1516-9332</td>\n",
       "      <td>1516-9332</td>\n",
       "      <td>Revista Brasileira de Ciências Farmacêuticas</td>\n",
       "      <td>Health Sciences</td>\n",
       "      <td>0</td>\n",
       "      <td>0</td>\n",
       "      <td>0</td>\n",
       "      <td>...</td>\n",
       "      <td>NaN</td>\n",
       "      <td>NaN</td>\n",
       "      <td>10.0</td>\n",
       "      <td>NaN</td>\n",
       "      <td>NaN</td>\n",
       "      <td>NaN</td>\n",
       "      <td>NaN</td>\n",
       "      <td>NaN</td>\n",
       "      <td>11.0</td>\n",
       "      <td>NaN</td>\n",
       "    </tr>\n",
       "  </tbody>\n",
       "</table>\n",
       "<p>5 rows × 98 columns</p>\n",
       "</div>"
      ],
      "text/plain": [
       "  extraction date study unit collection ISSN SciELO     ISSN's  \\\n",
       "0      2017-10-26    journal        scl   1676-5648  1676-5648   \n",
       "1      2017-10-26    journal        scl   0101-8108  0101-8108   \n",
       "2      2017-10-26    journal        scl   0034-7701  0034-7701   \n",
       "3      2017-10-26    journal        scl   0102-261X  0102-261X   \n",
       "4      2017-10-26    journal        scl   1516-9332  1516-9332   \n",
       "\n",
       "                                title at SciELO      title thematic areas  \\\n",
       "0                                RAE eletrônica   Applied Social Sciences   \n",
       "1   Revista de Psiquiatria do Rio Grande do Sul           Health Sciences   \n",
       "2                       Revista de Antropologia            Human Sciences   \n",
       "3               Revista Brasileira de Geofísica  Exact and Earth Sciences   \n",
       "4  Revista Brasileira de Ciências Farmacêuticas           Health Sciences   \n",
       "\n",
       "   title is agricultural sciences  title is applied social sciences  \\\n",
       "0                               0                                 1   \n",
       "1                               0                                 0   \n",
       "2                               0                                 0   \n",
       "3                               0                                 0   \n",
       "4                               0                                 0   \n",
       "\n",
       "   title is biological sciences           ...            \\\n",
       "0                             0           ...             \n",
       "1                             0           ...             \n",
       "2                             0           ...             \n",
       "3                             0           ...             \n",
       "4                             0           ...             \n",
       "\n",
       "   google scholar h5 2015   google scholar h5 2014   google scholar h5 2013   \\\n",
       "0                      NaN                      NaN                     10.0   \n",
       "1                      NaN                      NaN                     11.0   \n",
       "2                      NaN                      NaN                      NaN   \n",
       "3                      5.0                      6.0                      7.0   \n",
       "4                      NaN                      NaN                     10.0   \n",
       "\n",
       "   google scholar h5 2012   google scholar m5 2017   google scholar m5 2016   \\\n",
       "0                      NaN                      NaN                      NaN   \n",
       "1                      NaN                      NaN                      NaN   \n",
       "2                      NaN                      NaN                      NaN   \n",
       "3                      NaN                      NaN                      NaN   \n",
       "4                      NaN                      NaN                      NaN   \n",
       "\n",
       "  google scholar m5 2015  google scholar m5 2014  google scholar m5 2013   \\\n",
       "0                     NaN                     NaN                    16.0   \n",
       "1                     NaN                     NaN                    13.0   \n",
       "2                     NaN                     NaN                     NaN   \n",
       "3                     7.0                     6.0                     7.0   \n",
       "4                     NaN                     NaN                    11.0   \n",
       "\n",
       "  google scholar m5 2012   \n",
       "0                     NaN  \n",
       "1                     NaN  \n",
       "2                     NaN  \n",
       "3                     NaN  \n",
       "4                     NaN  \n",
       "\n",
       "[5 rows x 98 columns]"
      ]
     },
     "execution_count": 9,
     "metadata": {},
     "output_type": "execute_result"
    }
   ],
   "source": [
    "journals = pd.read_csv('data/journals.csv', index_col=False)\n",
    "journals.head()"
   ]
  },
  {
   "cell_type": "code",
   "execution_count": 10,
   "metadata": {},
   "outputs": [
    {
     "name": "stdout",
     "output_type": "stream",
     "text": [
      "<class 'pandas.core.frame.DataFrame'>\n",
      "RangeIndex: 360 entries, 0 to 359\n",
      "Data columns (total 98 columns):\n",
      "extraction date                           360 non-null object\n",
      "study unit                                360 non-null object\n",
      "collection                                360 non-null object\n",
      "ISSN SciELO                               360 non-null object\n",
      "ISSN's                                    358 non-null object\n",
      "title at SciELO                           360 non-null object\n",
      "title thematic areas                      360 non-null object\n",
      "title is agricultural sciences            360 non-null int64\n",
      "title is applied social sciences          360 non-null int64\n",
      "title is biological sciences              360 non-null int64\n",
      "title is engineering                      360 non-null int64\n",
      "title is exact and earth sciences         360 non-null int64\n",
      "title is health sciences                  360 non-null int64\n",
      "title is human sciences                   360 non-null int64\n",
      "title is linguistics, letters and arts    360 non-null int64\n",
      "title is multidisciplinary                360 non-null int64\n",
      "title current status                      360 non-null object\n",
      "title + subtitle SciELO                   360 non-null object\n",
      "short title SciELO                        360 non-null object\n",
      "short title ISO                           360 non-null object\n",
      "title PubMed                              62 non-null object\n",
      "publisher name                            360 non-null object\n",
      "use license                               360 non-null object\n",
      "alpha frequency                           360 non-null object\n",
      "numeric frequency (in months)             360 non-null object\n",
      "inclusion year at SciELO                  360 non-null int64\n",
      "stopping year at SciELO                   74 non-null float64\n",
      "stopping reason                           37 non-null object\n",
      "date of the first document                360 non-null object\n",
      "volume of the first document              334 non-null float64\n",
      "issue of the first document               356 non-null object\n",
      "date of the last document                 360 non-null object\n",
      "volume of the last document               344 non-null float64\n",
      "issue of the last document                330 non-null object\n",
      "total of issues                           360 non-null int64\n",
      "issues at 2017                            360 non-null int64\n",
      "issues at 2016                            360 non-null int64\n",
      "issues at 2015                            360 non-null int64\n",
      "issues at 2014                            360 non-null int64\n",
      "issues at 2013                            360 non-null int64\n",
      "issues at 2012                            360 non-null int64\n",
      "total of regular issues                   360 non-null int64\n",
      "regular issues at 2017                    360 non-null int64\n",
      "regular issues at 2016                    360 non-null int64\n",
      "regular issues at 2015                    360 non-null int64\n",
      "regular issues at 2014                    360 non-null int64\n",
      "regular issues at 2013                    360 non-null int64\n",
      "regular issues at 2012                    360 non-null int64\n",
      "total of documents                        360 non-null int64\n",
      "documents at 2017                         360 non-null int64\n",
      "documents at 2016                         360 non-null int64\n",
      "documents at 2015                         360 non-null int64\n",
      "documents at 2014                         360 non-null int64\n",
      "documents at 2013                         360 non-null int64\n",
      "documents at 2012                         360 non-null int64\n",
      "citable documents                         360 non-null int64\n",
      "citable documents at 2017                 360 non-null int64\n",
      "citable documents at 2016                 360 non-null int64\n",
      "citable documents at 2015                 360 non-null int64\n",
      "citable documents at 2014                 360 non-null int64\n",
      "citable documents at 2013                 360 non-null int64\n",
      "citable documents at 2012                 360 non-null int64\n",
      "portuguese documents at 2017              360 non-null int64\n",
      "portuguese documents at 2016              360 non-null int64\n",
      "portuguese documents at 2015              360 non-null int64\n",
      "portuguese documents at 2014              360 non-null int64\n",
      "portuguese documents at 2013              360 non-null int64\n",
      "portuguese documents at 2012              360 non-null int64\n",
      "spanish documents at 2017                 360 non-null int64\n",
      "spanish documents at 2016                 360 non-null int64\n",
      "spanish documents at 2015                 360 non-null int64\n",
      "spanish documents at 2014                 360 non-null int64\n",
      "spanish documents at 2013                 360 non-null int64\n",
      "spanish documents at 2012                 360 non-null int64\n",
      "english documents at 2017                 360 non-null int64\n",
      "english documents at 2016                 360 non-null int64\n",
      "english documents at 2015                 360 non-null int64\n",
      "english documents at 2014                 360 non-null int64\n",
      "english documents at 2013                 360 non-null int64\n",
      "english documents at 2012                 360 non-null int64\n",
      "other language documents at 2017          360 non-null int64\n",
      "other language documents at 2016          360 non-null int64\n",
      "other language documents at 2015          360 non-null int64\n",
      "other language documents at 2014          360 non-null int64\n",
      "other language documents at 2013          360 non-null int64\n",
      "other language documents at 2012          360 non-null int64\n",
      "google scholar h5 2017                    271 non-null float64\n",
      "google scholar h5 2016                    278 non-null float64\n",
      "google scholar h5 2015                    261 non-null float64\n",
      "google scholar h5 2014                    266 non-null float64\n",
      "google scholar h5 2013                    265 non-null float64\n",
      "google scholar h5 2012                    0 non-null float64\n",
      "google scholar m5 2017                    271 non-null float64\n",
      "google scholar m5 2016                    278 non-null float64\n",
      "google scholar m5 2015                    261 non-null float64\n",
      "google scholar m5 2014                    266 non-null float64\n",
      "google scholar m5 2013                    265 non-null float64\n",
      "google scholar m5 2012                    0 non-null float64\n",
      "dtypes: float64(15), int64(62), object(21)\n",
      "memory usage: 275.7+ KB\n"
     ]
    }
   ],
   "source": [
    "journals.info()"
   ]
  },
  {
   "cell_type": "markdown",
   "metadata": {},
   "source": [
    "### title thematic areas\n",
    "\n",
    "Um dos campos que chamou minha atenção foi o `title thematic areas` que, segundo a [documentação](http://docs.scielo.org/projects/scielo-processing/pt/latest/public_reports.html#title-thematic-areas) representa \"A lista de áreas temáticas indica as possíveis áreas de um título\". Vamos analisar mais de perto e ver quais informações este campo pode nos dar."
   ]
  },
  {
   "cell_type": "code",
   "execution_count": 11,
   "metadata": {},
   "outputs": [
    {
     "data": {
      "text/plain": [
       "0     Applied Social Sciences\n",
       "1             Health Sciences\n",
       "2              Human Sciences\n",
       "3    Exact and Earth Sciences\n",
       "4             Health Sciences\n",
       "Name: title thematic areas, dtype: object"
      ]
     },
     "execution_count": 11,
     "metadata": {},
     "output_type": "execute_result"
    }
   ],
   "source": [
    "journals['title thematic areas'].head()"
   ]
  },
  {
   "cell_type": "code",
   "execution_count": 13,
   "metadata": {},
   "outputs": [
    {
     "data": {
      "text/plain": [
       "count                 360\n",
       "unique                 20\n",
       "top       Health Sciences\n",
       "freq                   99\n",
       "Name: title thematic areas, dtype: object"
      ]
     },
     "execution_count": 13,
     "metadata": {},
     "output_type": "execute_result"
    }
   ],
   "source": [
    "journals['title thematic areas'].describe()"
   ]
  },
  {
   "cell_type": "code",
   "execution_count": 63,
   "metadata": {},
   "outputs": [
    {
     "data": {
      "text/plain": [
       "Health Sciences                                                                                                  99\n",
       "Human Sciences                                                                                                   78\n",
       "Agricultural Sciences                                                                                            37\n",
       "Applied Social Sciences                                                                                          36\n",
       "Biological Sciences                                                                                              24\n",
       "Engineering                                                                                                      21\n",
       "Linguistics, Letters and Arts                                                                                    16\n",
       "Exact and Earth Sciences                                                                                         13\n",
       "Applied Social Sciences;Human Sciences                                                                            8\n",
       "Health Sciences;Human Sciences                                                                                    8\n",
       "Agricultural Sciences;Biological Sciences                                                                         5\n",
       "Biological Sciences;Health Sciences                                                                               4\n",
       "Biological Sciences;Exact and Earth Sciences                                                                      3\n",
       "Engineering;Exact and Earth Sciences                                                                              2\n",
       "Agricultural Sciences;Biological Sciences;Exact and Earth Sciences;Health Sciences                                1\n",
       "Applied Social Sciences;Biological Sciences;Human Sciences                                                        1\n",
       "Agricultural Sciences;Biological Sciences;Health Sciences                                                         1\n",
       "Agricultural Sciences;Biological Sciences;Engineering;Exact and Earth Sciences;Health Sciences;Human Sciences     1\n",
       "Agricultural Sciences;Biological Sciences;Engineering;Health Sciences                                             1\n",
       "Agricultural Sciences;Biological Sciences;Engineering;Exact and Earth Sciences;Human Sciences                     1\n",
       "Name: title thematic areas, dtype: int64"
      ]
     },
     "execution_count": 63,
     "metadata": {},
     "output_type": "execute_result"
    }
   ],
   "source": [
    "journals['title thematic areas'].value_counts()"
   ]
  },
  {
   "cell_type": "markdown",
   "metadata": {},
   "source": [
    "Vemos que periódicos na área de Saúde são maioria na base.\n",
    "\n",
    "Aqui vemos que existem periódicos com mais de uma categoria, chegando a 6 categorias no mesmo periódico. Vamos avaliar um destes registros"
   ]
  },
  {
   "cell_type": "code",
   "execution_count": 38,
   "metadata": {},
   "outputs": [
    {
     "data": {
      "text/html": [
       "<div>\n",
       "<style>\n",
       "    .dataframe thead tr:only-child th {\n",
       "        text-align: right;\n",
       "    }\n",
       "\n",
       "    .dataframe thead th {\n",
       "        text-align: left;\n",
       "    }\n",
       "\n",
       "    .dataframe tbody tr th {\n",
       "        vertical-align: top;\n",
       "    }\n",
       "</style>\n",
       "<table border=\"1\" class=\"dataframe\">\n",
       "  <thead>\n",
       "    <tr style=\"text-align: right;\">\n",
       "      <th></th>\n",
       "      <th>67</th>\n",
       "    </tr>\n",
       "  </thead>\n",
       "  <tbody>\n",
       "    <tr>\n",
       "      <th>extraction date</th>\n",
       "      <td>2017-10-26</td>\n",
       "    </tr>\n",
       "    <tr>\n",
       "      <th>study unit</th>\n",
       "      <td>journal</td>\n",
       "    </tr>\n",
       "    <tr>\n",
       "      <th>collection</th>\n",
       "      <td>scl</td>\n",
       "    </tr>\n",
       "    <tr>\n",
       "      <th>ISSN SciELO</th>\n",
       "      <td>0001-3765</td>\n",
       "    </tr>\n",
       "    <tr>\n",
       "      <th>ISSN's</th>\n",
       "      <td>0001-3765;1678-2690</td>\n",
       "    </tr>\n",
       "    <tr>\n",
       "      <th>title at SciELO</th>\n",
       "      <td>Anais da Academia Brasileira de Ciências</td>\n",
       "    </tr>\n",
       "    <tr>\n",
       "      <th>title thematic areas</th>\n",
       "      <td>Agricultural Sciences;Biological Sciences;Engi...</td>\n",
       "    </tr>\n",
       "    <tr>\n",
       "      <th>title is agricultural sciences</th>\n",
       "      <td>1</td>\n",
       "    </tr>\n",
       "    <tr>\n",
       "      <th>title is applied social sciences</th>\n",
       "      <td>0</td>\n",
       "    </tr>\n",
       "    <tr>\n",
       "      <th>title is biological sciences</th>\n",
       "      <td>1</td>\n",
       "    </tr>\n",
       "    <tr>\n",
       "      <th>title is engineering</th>\n",
       "      <td>1</td>\n",
       "    </tr>\n",
       "    <tr>\n",
       "      <th>title is exact and earth sciences</th>\n",
       "      <td>1</td>\n",
       "    </tr>\n",
       "    <tr>\n",
       "      <th>title is health sciences</th>\n",
       "      <td>1</td>\n",
       "    </tr>\n",
       "    <tr>\n",
       "      <th>title is human sciences</th>\n",
       "      <td>1</td>\n",
       "    </tr>\n",
       "    <tr>\n",
       "      <th>title is linguistics, letters and arts</th>\n",
       "      <td>0</td>\n",
       "    </tr>\n",
       "    <tr>\n",
       "      <th>title is multidisciplinary</th>\n",
       "      <td>1</td>\n",
       "    </tr>\n",
       "    <tr>\n",
       "      <th>title current status</th>\n",
       "      <td>current</td>\n",
       "    </tr>\n",
       "    <tr>\n",
       "      <th>title + subtitle SciELO</th>\n",
       "      <td>Anais da Academia Brasileira de Ciências</td>\n",
       "    </tr>\n",
       "    <tr>\n",
       "      <th>short title SciELO</th>\n",
       "      <td>An. Acad. Bras. Ciênc.</td>\n",
       "    </tr>\n",
       "    <tr>\n",
       "      <th>short title ISO</th>\n",
       "      <td>An. Acad. Bras. Ciênc</td>\n",
       "    </tr>\n",
       "    <tr>\n",
       "      <th>title PubMed</th>\n",
       "      <td>An Acad Bras Cienc</td>\n",
       "    </tr>\n",
       "    <tr>\n",
       "      <th>publisher name</th>\n",
       "      <td>Academia Brasileira de Ciências</td>\n",
       "    </tr>\n",
       "    <tr>\n",
       "      <th>use license</th>\n",
       "      <td>by/4.0</td>\n",
       "    </tr>\n",
       "    <tr>\n",
       "      <th>alpha frequency</th>\n",
       "      <td>Quarterly</td>\n",
       "    </tr>\n",
       "    <tr>\n",
       "      <th>numeric frequency (in months)</th>\n",
       "      <td>4</td>\n",
       "    </tr>\n",
       "    <tr>\n",
       "      <th>inclusion year at SciELO</th>\n",
       "      <td>2000</td>\n",
       "    </tr>\n",
       "    <tr>\n",
       "      <th>stopping year at SciELO</th>\n",
       "      <td>NaN</td>\n",
       "    </tr>\n",
       "    <tr>\n",
       "      <th>stopping reason</th>\n",
       "      <td>NaN</td>\n",
       "    </tr>\n",
       "    <tr>\n",
       "      <th>date of the first document</th>\n",
       "      <td>2000-03</td>\n",
       "    </tr>\n",
       "    <tr>\n",
       "      <th>volume of the first document</th>\n",
       "      <td>72</td>\n",
       "    </tr>\n",
       "  </tbody>\n",
       "</table>\n",
       "</div>"
      ],
      "text/plain": [
       "                                                                                       67\n",
       "extraction date                                                                2017-10-26\n",
       "study unit                                                                        journal\n",
       "collection                                                                            scl\n",
       "ISSN SciELO                                                                     0001-3765\n",
       "ISSN's                                                                0001-3765;1678-2690\n",
       "title at SciELO                                  Anais da Academia Brasileira de Ciências\n",
       "title thematic areas                    Agricultural Sciences;Biological Sciences;Engi...\n",
       "title is agricultural sciences                                                          1\n",
       "title is applied social sciences                                                        0\n",
       "title is biological sciences                                                            1\n",
       "title is engineering                                                                    1\n",
       "title is exact and earth sciences                                                       1\n",
       "title is health sciences                                                                1\n",
       "title is human sciences                                                                 1\n",
       "title is linguistics, letters and arts                                                  0\n",
       "title is multidisciplinary                                                              1\n",
       "title current status                                                              current\n",
       "title + subtitle SciELO                         Anais da Academia Brasileira de Ciências \n",
       "short title SciELO                                                 An. Acad. Bras. Ciênc.\n",
       "short title ISO                                                     An. Acad. Bras. Ciênc\n",
       "title PubMed                                                           An Acad Bras Cienc\n",
       "publisher name                                            Academia Brasileira de Ciências\n",
       "use license                                                                        by/4.0\n",
       "alpha frequency                                                                 Quarterly\n",
       "numeric frequency (in months)                                                           4\n",
       "inclusion year at SciELO                                                             2000\n",
       "stopping year at SciELO                                                               NaN\n",
       "stopping reason                                                                       NaN\n",
       "date of the first document                                                        2000-03\n",
       "volume of the first document                                                           72"
      ]
     },
     "execution_count": 38,
     "metadata": {},
     "output_type": "execute_result"
    }
   ],
   "source": [
    "journals[\n",
    "    journals['title thematic areas'] == \n",
    "         'Agricultural Sciences;Biological Sciences;Engineering;Exact and Earth Sciences;Health Sciences;Human Sciences'\n",
    "].T[:30]"
   ]
  },
  {
   "cell_type": "markdown",
   "metadata": {},
   "source": [
    "Aparentemente os periódicos com mais de uma categoria são realmente mais \"genéricos\" e acredito que não exista erro nesta classificação. Vamos ver a distribuição (%) dos periódicos nas principais categorias"
   ]
  },
  {
   "cell_type": "code",
   "execution_count": 78,
   "metadata": {},
   "outputs": [
    {
     "data": {
      "image/png": "[encoded data removed]",
      "text/plain": [
       "<matplotlib.figure.Figure at 0x7fbaa2552b38>"
      ]
     },
     "metadata": {},
     "output_type": "display_data"
    }
   ],
   "source": [
    "to_plot = journals['title thematic areas'].value_counts(normalize=True)\n",
    "ax = to_plot[to_plot > 0.03].plot(kind='bar', rot=40)\n",
    "vals = ax.get_yticks()\n",
    "ax.set_yticklabels(['{:3.0f}%'.format(x*100) for x in vals])\n",
    "plt.show()"
   ]
  },
  {
   "cell_type": "markdown",
   "metadata": {},
   "source": [
    "### google scholar h5\n",
    "\n",
    "Segundo [este site](https://bsf.org.br/2012/04/05/google-scholar-metrics-bibliometria-fator-impacto-citacoes-indice-h/) o índice h5 é \"o índice-h (de Hirsch) é o maior número h considerando que um certo número h de artigos em um periódico foram citados pelo menos um certo número h de vezes.\"\n",
    "\n",
    "Vamos analisar como este índice de citações se comportou ao longo dos anos em cada categoria de periódico. Para isso, vamos aplicar uma alteração nos registros que pertencem a mais de uma categoria para manter apenas a primeira delas.\n",
    "\n",
    "**ATENÇÃO**: Estou inferindo que a primeira categoria seria \"a principal\" e esta alteração visa simplificar a visualização."
   ]
  },
  {
   "cell_type": "code",
   "execution_count": 93,
   "metadata": {},
   "outputs": [],
   "source": [
    "journals['title thematic areas'] = journals['title thematic areas'].apply(lambda x: x.split(';')[:1][0])"
   ]
  },
  {
   "cell_type": "code",
   "execution_count": 94,
   "metadata": {},
   "outputs": [
    {
     "data": {
      "text/plain": [
       "<matplotlib.axes._subplots.AxesSubplot at 0x7fbaa56ff9b0>"
      ]
     },
     "execution_count": 94,
     "metadata": {},
     "output_type": "execute_result"
    },
    {
     "data": {
      "image/png": "[encoded data removed]",
      "text/plain": [
       "<matplotlib.figure.Figure at 0x7fbaa5700198>"
      ]
     },
     "metadata": {},
     "output_type": "display_data"
    }
   ],
   "source": [
    "journals.groupby('title thematic areas').agg({\n",
    "    'google scholar h5 2017 ':'mean',\n",
    "    'google scholar h5 2016 ':'mean',\n",
    "    'google scholar h5 2015 ':'mean',\n",
    "    'google scholar h5 2014 ':'mean',\n",
    "}).sort_values(by='google scholar h5 2017 ', ascending=False).plot(kind='bar')"
   ]
  },
  {
   "cell_type": "markdown",
   "metadata": {},
   "source": [
    "Vemos que a categoria de periódicos em Saúde são os mais citados em média, o que pode se justificar com o maior número de periódicos nesta categoria. Vamos ver então, o máximo de citações no lugar da média de citações."
   ]
  },
  {
   "cell_type": "code",
   "execution_count": 95,
   "metadata": {},
   "outputs": [
    {
     "data": {
      "text/plain": [
       "<matplotlib.axes._subplots.AxesSubplot at 0x7fbaa14de080>"
      ]
     },
     "execution_count": 95,
     "metadata": {},
     "output_type": "execute_result"
    },
    {
     "data": {
      "image/png": "[encoded data removed]",
      "text/plain": [
       "<matplotlib.figure.Figure at 0x7fbaa14e7780>"
      ]
     },
     "metadata": {},
     "output_type": "display_data"
    }
   ],
   "source": [
    "journals.groupby('title thematic areas').agg({\n",
    "    'google scholar h5 2017 ':'max',\n",
    "    'google scholar h5 2016 ':'max',\n",
    "    'google scholar h5 2015 ':'max',\n",
    "    'google scholar h5 2014 ':'max',\n",
    "}).sort_values(by='google scholar h5 2017 ', ascending=False).plot(kind='bar')"
   ]
  },
  {
   "cell_type": "markdown",
   "metadata": {},
   "source": [
    "Ao plotar o máximo houve mudanças nas posições 3 a 7, mostrando que estas categorias tem periódicos que se destacam. A diferença entre a 1ª e 2ª posições fica mais evidente e a diferença entre os anos (2014 a 2017) também apresenta diferenças em comparação com a média."
   ]
  },
  {
   "cell_type": "markdown",
   "metadata": {},
   "source": [
    "### publisher name\n",
    "\n",
    "Vamos avaliar o campo `publisher name` para ver a diversidade de editores."
   ]
  },
  {
   "cell_type": "code",
   "execution_count": 102,
   "metadata": {},
   "outputs": [
    {
     "data": {
      "text/plain": [
       "count                                                   360\n",
       "unique                                                  327\n",
       "top       Instituto Oceanográfico da Universidade de São...\n",
       "freq                                                      3\n",
       "Name: publisher name, dtype: object"
      ]
     },
     "execution_count": 102,
     "metadata": {},
     "output_type": "execute_result"
    }
   ],
   "source": [
    "journals['publisher name'].describe()"
   ]
  },
  {
   "cell_type": "code",
   "execution_count": 103,
   "metadata": {},
   "outputs": [
    {
     "data": {
      "text/plain": [
       "Instituto Oceanográfico da Universidade de São Paulo      3\n",
       "Universidade Federal de Santa Catarina                    3\n",
       "Sociedade Brasileira de Fonoaudiologia                    3\n",
       "Universidade Estadual de Maringá                          2\n",
       "Sociedade Entomológica do Brasil                          2\n",
       "Sociedade Brasileira de Fisiologia Vegetal                2\n",
       "Faculdade de Educação da Universidade de São Paulo        2\n",
       "Sociedade Brasileira de Microbiologia                     2\n",
       "Sociedade Brasileira de Endocrinologia e Metabologia      2\n",
       "Universidade de São Paulo                                 2\n",
       "Universidade Federal do Rio de Janeiro                    2\n",
       "Universidade Estadual Paulista Júlio de Mesquita Filho    2\n",
       "Universidade Federal de Santa Maria                       2\n",
       "Sociedade Brasileira de Física                            2\n",
       "Pontifícia Universidade Católica do Paraná                2\n",
       "Name: publisher name, dtype: int64"
      ]
     },
     "execution_count": 103,
     "metadata": {},
     "output_type": "execute_result"
    }
   ],
   "source": [
    "journals['publisher name'].value_counts()[:15]"
   ]
  },
  {
   "cell_type": "markdown",
   "metadata": {},
   "source": [
    "Os pediódicos parecem estar bem distribuidos entre os editores. Pode-se fazer uma avaliação mais profunda para considerar, por exemplo, o *Instituto Oceanográfico da Universidade de São Paulo* como apenas *Universidade de São Paulo*."
   ]
  },
  {
   "cell_type": "markdown",
   "metadata": {},
   "source": [
    "## Sugestões de análises futuras\n",
    "\n",
    "- Aprofundar a analise e explorar os demais campos\n",
    "- Explorar os outros arquivos CSV deste dataset e suas relações\n",
    "- Explorar os datasets dos outros países e/ou o conjunto todo dos dados\n",
    "- Analisar uma possível correlação entre o índice de citações h5 e os demais dados dos periódicos e buscar um modelo preditivo para o índice h5"
   ]
  },
  {
   "cell_type": "code",
   "execution_count": null,
   "metadata": {
    "collapsed": true
   },
   "outputs": [],
   "source": []
  }
 ],
 "metadata": {
  "kernelspec": {
   "display_name": "Python 3",
   "language": "python",
   "name": "python3"
  },
  "language_info": {
   "codemirror_mode": {
    "name": "ipython",
    "version": 3
   },
   "file_extension": ".py",
   "mimetype": "text/x-python",
   "name": "python",
   "nbconvert_exporter": "python",
   "pygments_lexer": "ipython3",
   "version": "3.5.2"
  }
 },
 "nbformat": 4,
 "nbformat_minor": 2
}
