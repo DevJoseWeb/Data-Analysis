{
 "cells": [
  {
   "cell_type": "code",
   "execution_count": 1,
   "metadata": {
    "collapsed": false
   },
   "outputs": [],
   "source": [
    "import pandas as pd\n",
    "from pandas import DataFrame\n",
    "\n",
    "import numpy as np\n",
    "import sklearn\n",
    "from sklearn.feature_extraction.text import CountVectorizer\n",
    "from sklearn.ensemble import RandomForestClassifier\n",
    "from sklearn.pipeline import Pipeline"
   ]
  },
  {
   "cell_type": "code",
   "execution_count": 2,
   "metadata": {
    "collapsed": true
   },
   "outputs": [],
   "source": [
    "bag_df = pd.read_csv('bag_words.csv', sep=';')"
   ]
  },
  {
   "cell_type": "code",
   "execution_count": 3,
   "metadata": {
    "collapsed": false
   },
   "outputs": [],
   "source": [
    "bag_df.columns = ['link', 'categoria', 'texto']"
   ]
  },
  {
   "cell_type": "code",
   "execution_count": 4,
   "metadata": {
    "collapsed": false
   },
   "outputs": [
    {
     "data": {
      "text/html": [
       "<div>\n",
       "<table border=\"1\" class=\"dataframe\">\n",
       "  <thead>\n",
       "    <tr style=\"text-align: right;\">\n",
       "      <th></th>\n",
       "      <th>link</th>\n",
       "      <th>categoria</th>\n",
       "      <th>texto</th>\n",
       "    </tr>\n",
       "  </thead>\n",
       "  <tbody>\n",
       "    <tr>\n",
       "      <th>0</th>\n",
       "      <td>http://g1.globo.com/economia/agronegocios/agro...</td>\n",
       "      <td>agro</td>\n",
       "      <td>criação peixes cativeiro brasil expansão país ...</td>\n",
       "    </tr>\n",
       "    <tr>\n",
       "      <th>1</th>\n",
       "      <td>http://g1.globo.com/economia/agronegocios/noti...</td>\n",
       "      <td>agro</td>\n",
       "      <td>acordo ibge abate somou milhões cabeças maior ...</td>\n",
       "    </tr>\n",
       "    <tr>\n",
       "      <th>2</th>\n",
       "      <td>http://g1.globo.com/sp/piracicaba-regiao/notic...</td>\n",
       "      <td>agro</td>\n",
       "      <td>universidade paulo usp piracicabasp anunciou i...</td>\n",
       "    </tr>\n",
       "    <tr>\n",
       "      <th>3</th>\n",
       "      <td>http://g1.globo.com/economia/midia-e-marketing...</td>\n",
       "      <td>agro</td>\n",
       "      <td>mcdonalds saladas compostas vegetais orgânicos...</td>\n",
       "    </tr>\n",
       "    <tr>\n",
       "      <th>4</th>\n",
       "      <td>http://g1.globo.com/economia/agronegocios/noti...</td>\n",
       "      <td>agro</td>\n",
       "      <td>anúncio feito presidente instituto agronômico ...</td>\n",
       "    </tr>\n",
       "  </tbody>\n",
       "</table>\n",
       "</div>"
      ],
      "text/plain": [
       "                                                link categoria  \\\n",
       "0  http://g1.globo.com/economia/agronegocios/agro...      agro   \n",
       "1  http://g1.globo.com/economia/agronegocios/noti...      agro   \n",
       "2  http://g1.globo.com/sp/piracicaba-regiao/notic...      agro   \n",
       "3  http://g1.globo.com/economia/midia-e-marketing...      agro   \n",
       "4  http://g1.globo.com/economia/agronegocios/noti...      agro   \n",
       "\n",
       "                                               texto  \n",
       "0  criação peixes cativeiro brasil expansão país ...  \n",
       "1  acordo ibge abate somou milhões cabeças maior ...  \n",
       "2  universidade paulo usp piracicabasp anunciou i...  \n",
       "3  mcdonalds saladas compostas vegetais orgânicos...  \n",
       "4  anúncio feito presidente instituto agronômico ...  "
      ]
     },
     "execution_count": 4,
     "metadata": {},
     "output_type": "execute_result"
    }
   ],
   "source": [
    "bag_df.head()"
   ]
  },
  {
   "cell_type": "code",
   "execution_count": 5,
   "metadata": {
    "collapsed": false
   },
   "outputs": [
    {
     "name": "stdout",
     "output_type": "stream",
     "text": [
      "<class 'pandas.core.frame.DataFrame'>\n",
      "RangeIndex: 706 entries, 0 to 705\n",
      "Data columns (total 3 columns):\n",
      "link         706 non-null object\n",
      "categoria    706 non-null object\n",
      "texto        695 non-null object\n",
      "dtypes: object(3)\n",
      "memory usage: 16.6+ KB\n"
     ]
    }
   ],
   "source": [
    "bag_df.info()"
   ]
  },
  {
   "cell_type": "code",
   "execution_count": 7,
   "metadata": {
    "collapsed": false
   },
   "outputs": [
    {
     "data": {
      "text/html": [
       "<div>\n",
       "<table border=\"1\" class=\"dataframe\">\n",
       "  <thead>\n",
       "    <tr style=\"text-align: right;\">\n",
       "      <th></th>\n",
       "      <th>link</th>\n",
       "      <th>categoria</th>\n",
       "      <th>texto</th>\n",
       "    </tr>\n",
       "  </thead>\n",
       "  <tbody>\n",
       "    <tr>\n",
       "      <th>count</th>\n",
       "      <td>706</td>\n",
       "      <td>706</td>\n",
       "      <td>695</td>\n",
       "    </tr>\n",
       "    <tr>\n",
       "      <th>unique</th>\n",
       "      <td>696</td>\n",
       "      <td>6</td>\n",
       "      <td>685</td>\n",
       "    </tr>\n",
       "    <tr>\n",
       "      <th>top</th>\n",
       "      <td>http://g1.globo.com/educacao/noticia/ninguem-s...</td>\n",
       "      <td>ciencia-e-saude</td>\n",
       "      <td>acidente teori zavascki veja sabe agora é boat...</td>\n",
       "    </tr>\n",
       "    <tr>\n",
       "      <th>freq</th>\n",
       "      <td>2</td>\n",
       "      <td>146</td>\n",
       "      <td>3</td>\n",
       "    </tr>\n",
       "  </tbody>\n",
       "</table>\n",
       "</div>"
      ],
      "text/plain": [
       "                                                     link        categoria  \\\n",
       "count                                                 706              706   \n",
       "unique                                                696                6   \n",
       "top     http://g1.globo.com/educacao/noticia/ninguem-s...  ciencia-e-saude   \n",
       "freq                                                    2              146   \n",
       "\n",
       "                                                    texto  \n",
       "count                                                 695  \n",
       "unique                                                685  \n",
       "top     acidente teori zavascki veja sabe agora é boat...  \n",
       "freq                                                    3  "
      ]
     },
     "execution_count": 7,
     "metadata": {},
     "output_type": "execute_result"
    }
   ],
   "source": [
    "bag_df.describe()"
   ]
  },
  {
   "cell_type": "code",
   "execution_count": 8,
   "metadata": {
    "collapsed": true
   },
   "outputs": [],
   "source": [
    "vectorizer = CountVectorizer(analyzer = \"word\", tokenizer = None, preprocessor = None, stop_words = None)\n",
    "forest = RandomForestClassifier(n_estimators = 100) \n",
    "pipe = Pipeline([('vect', vectorizer), ('forest', forest)])"
   ]
  },
  {
   "cell_type": "code",
   "execution_count": 10,
   "metadata": {
    "collapsed": false
   },
   "outputs": [],
   "source": [
    "bag_df_clean = bag_df.dropna()\n",
    "X_train, X_test, Y_train, Y_test = sklearn.model_selection.train_test_split(bag_df_clean.texto, bag_df_clean.categoria)"
   ]
  },
  {
   "cell_type": "code",
   "execution_count": 11,
   "metadata": {
    "collapsed": false
   },
   "outputs": [
    {
     "data": {
      "text/plain": [
       "Pipeline(steps=[('vect', CountVectorizer(analyzer='word', binary=False, decode_error=u'strict',\n",
       "        dtype=<type 'numpy.int64'>, encoding=u'utf-8', input=u'content',\n",
       "        lowercase=True, max_df=1.0, max_features=None, min_df=1,\n",
       "        ngram_range=(1, 1), preprocessor=None, stop_words=None,\n",
       "        str...mators=100, n_jobs=1, oob_score=False, random_state=None,\n",
       "            verbose=0, warm_start=False))])"
      ]
     },
     "execution_count": 11,
     "metadata": {},
     "output_type": "execute_result"
    }
   ],
   "source": [
    "pipe.fit(X_train, Y_train)"
   ]
  },
  {
   "cell_type": "code",
   "execution_count": 12,
   "metadata": {
    "collapsed": false
   },
   "outputs": [
    {
     "data": {
      "text/plain": [
       "0.75287356321839083"
      ]
     },
     "execution_count": 12,
     "metadata": {},
     "output_type": "execute_result"
    }
   ],
   "source": [
    "pipe.score(X_test, Y_test)"
   ]
  },
  {
   "cell_type": "code",
   "execution_count": 27,
   "metadata": {
    "collapsed": false
   },
   "outputs": [
    {
     "name": "stdout",
     "output_type": "stream",
     "text": [
      "['politica']\n",
      "[('politica', 0.91000000000000003), ('economia', 0.040000000000000001), ('agro', 0.029999999999999999), ('educacao', 0.01), ('tecnologia', 0.01), ('ciencia-e-saude', 0.0)]\n"
     ]
    }
   ],
   "source": [
    "url = 'http://g1.globo.com/rs/rio-grande-do-sul/noticia/2017/01/nas-proximas-horas-ou-dias-teremos-novo-relator-da-lava-jato-diz-mello.html'\n",
    "def predict(url):\n",
    "    from G1_categorizer import pre_processor\n",
    "    words = pre_processor(url)\n",
    "    resp = pipe.predict([words])\n",
    "    print resp\n",
    "    probs = pipe.predict_proba([words])\n",
    "    resp = zip(pipe.classes_, probs[0])\n",
    "    resp.sort(key=lambda tup: tup[1], reverse=True)\n",
    "    print resp\n",
    "    \n",
    "predict(url)"
   ]
  },
  {
   "cell_type": "code",
   "execution_count": null,
   "metadata": {
    "collapsed": true
   },
   "outputs": [],
   "source": []
  }
 ],
 "metadata": {
  "kernelspec": {
   "display_name": "Python 2",
   "language": "python",
   "name": "python2"
  },
  "language_info": {
   "codemirror_mode": {
    "name": "ipython",
    "version": 2
   },
   "file_extension": ".py",
   "mimetype": "text/x-python",
   "name": "python",
   "nbconvert_exporter": "python",
   "pygments_lexer": "ipython2",
   "version": "2.7.12"
  }
 },
 "nbformat": 4,
 "nbformat_minor": 1
}
