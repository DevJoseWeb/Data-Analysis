{
 "cells": [
  {
   "cell_type": "code",
   "execution_count": 1,
   "metadata": {
    "collapsed": true
   },
   "outputs": [],
   "source": [
    "from G1_categorizer import worker"
   ]
  },
  {
   "cell_type": "code",
   "execution_count": 2,
   "metadata": {
    "collapsed": true
   },
   "outputs": [],
   "source": [
    "from nltk.corpus import stopwords\n",
    "stops = set(stopwords.words(\"portuguese\"))"
   ]
  },
  {
   "cell_type": "code",
   "execution_count": 4,
   "metadata": {
    "collapsed": false
   },
   "outputs": [
    {
     "name": "stdout",
     "output_type": "stream",
     "text": [
      "vendas indústria farmacêutica brasileira cresceram somando r bilhões segundo levantamento realizado interfarma associação representa laboratórios farmacêuticos país partir dados ims health dez principais grupos farmacêuticos faturaram juntos r bilhões ano passado correspondendo mercado varejista segundo interfarma valor reflete preço lista medicamentos considerar eventuais descontos farmácias crescimento nominal receita vendas remédios país ficou acima inflação ficou índice preços consumidor amplo ipca segundo ibge medicamentos ficaram caros taxa elevada desde ficou categorias pressionaram inflação ano passado segundo levantamento receita vendas genéricos representam mercado subiu subiu categoria remédios líder faturamento classe analgésicos narcótico antipiréticos faturamento r bilhões total seguida antidepressivos estabilizadores humor vendas r bilhões crescimento comparação terceira posição ficaram preparações reguladoras colesterol triglicerídeos receita r bilhões\n",
      "CPU times: user 64 ms, sys: 0 ns, total: 64 ms\n",
      "Wall time: 2.58 s\n"
     ]
    }
   ],
   "source": [
    "%time print worker('http://g1.globo.com/economia/noticia/receita-com-vendas-de-remedios-cresce-131-em-2016-diz-interfarma.ghtml', stops)"
   ]
  },
  {
   "cell_type": "code",
   "execution_count": 5,
   "metadata": {
    "collapsed": true
   },
   "outputs": [],
   "source": [
    "from G1_categorizer import worker"
   ]
  },
  {
   "cell_type": "code",
   "execution_count": 6,
   "metadata": {
    "collapsed": false
   },
   "outputs": [
    {
     "name": "stdout",
     "output_type": "stream",
     "text": [
      "CPU times: user 84 ms, sys: 0 ns, total: 84 ms\n",
      "Wall time: 640 ms\n"
     ]
    },
    {
     "data": {
      "text/plain": [
       "u'vendas ind stria farmac utica brasileira cresceram somando r bilh es segundo levantamento realizado interfarma associa representa laborat rios farmac uticos pa s partir dados ims health dez principais grupos farmac uticos faturaram juntos r bilh es ano passado correspondendo mercado varejista segundo interfarma valor reflete pre lista medicamentos considerar eventuais descontos farm cias crescimento nominal receita vendas rem dios pa s ficou acima infla ficou ndice pre consumidor amplo ipca segundo ibge medicamentos ficaram caros taxa elevada desde ficou categorias pressionaram infla ano passado segundo levantamento receita vendas gen ricos representam mercado subiu subiu categoria rem dios l der faturamento classe analg sicos n narc tico antipir ticos faturamento r bilh es total seguida est antidepressivos estabilizadores humor vendas r bilh es crescimento compara terceira posi ficaram prepara es reguladoras colesterol triglicer deos receita r bilh es'"
      ]
     },
     "execution_count": 6,
     "metadata": {},
     "output_type": "execute_result"
    }
   ],
   "source": [
    "%time worker('http://g1.globo.com/economia/noticia/receita-com-vendas-de-remedios-cresce-131-em-2016-diz-interfarma.ghtml', stops)"
   ]
  },
  {
   "cell_type": "code",
   "execution_count": 10,
   "metadata": {
    "collapsed": false
   },
   "outputs": [],
   "source": [
    "import pandas as pd\n",
    "from pandas import DataFrame"
   ]
  },
  {
   "cell_type": "code",
   "execution_count": 17,
   "metadata": {
    "collapsed": true
   },
   "outputs": [],
   "source": [
    "bag_df = pd.read_csv('bag_words.csv', sep=';')"
   ]
  },
  {
   "cell_type": "code",
   "execution_count": 18,
   "metadata": {
    "collapsed": false
   },
   "outputs": [],
   "source": [
    "bag_df.columns = ['link', 'categoria', 'texto']"
   ]
  },
  {
   "cell_type": "code",
   "execution_count": 13,
   "metadata": {
    "collapsed": true
   },
   "outputs": [],
   "source": []
  },
  {
   "cell_type": "code",
   "execution_count": 19,
   "metadata": {
    "collapsed": false
   },
   "outputs": [
    {
     "data": {
      "text/html": [
       "<div>\n",
       "<table border=\"1\" class=\"dataframe\">\n",
       "  <thead>\n",
       "    <tr style=\"text-align: right;\">\n",
       "      <th></th>\n",
       "      <th>link</th>\n",
       "      <th>categoria</th>\n",
       "      <th>texto</th>\n",
       "    </tr>\n",
       "  </thead>\n",
       "  <tbody>\n",
       "    <tr>\n",
       "      <th>0</th>\n",
       "      <td>http://g1.globo.com/economia/agronegocios/noti...</td>\n",
       "      <td>agro</td>\n",
       "      <td>presidente michel temer afirmou nesta segundaf...</td>\n",
       "    </tr>\n",
       "    <tr>\n",
       "      <th>1</th>\n",
       "      <td>http://g1.globo.com/economia/negocios/noticia/...</td>\n",
       "      <td>agro</td>\n",
       "      <td>vale anunciou manhã desta segundafeira venda a...</td>\n",
       "    </tr>\n",
       "    <tr>\n",
       "      <th>2</th>\n",
       "      <td>http://g1.globo.com/economia/noticia/receita-c...</td>\n",
       "      <td>ciencia-e-saude</td>\n",
       "      <td>vendas indústria farmacêutica brasileira cresc...</td>\n",
       "    </tr>\n",
       "    <tr>\n",
       "      <th>3</th>\n",
       "      <td>http://g1.globo.com/natureza/noticia/formigas-...</td>\n",
       "      <td>ciencia-e-saude</td>\n",
       "      <td>formigas têm sistema navegação gps sofisticado...</td>\n",
       "    </tr>\n",
       "    <tr>\n",
       "      <th>4</th>\n",
       "      <td>http://g1.globo.com/ciencia-e-saude/noticia/ex...</td>\n",
       "      <td>ciencia-e-saude</td>\n",
       "      <td>estranho barulho ártico deixou canadenses intr...</td>\n",
       "    </tr>\n",
       "  </tbody>\n",
       "</table>\n",
       "</div>"
      ],
      "text/plain": [
       "                                                link        categoria  \\\n",
       "0  http://g1.globo.com/economia/agronegocios/noti...             agro   \n",
       "1  http://g1.globo.com/economia/negocios/noticia/...             agro   \n",
       "2  http://g1.globo.com/economia/noticia/receita-c...  ciencia-e-saude   \n",
       "3  http://g1.globo.com/natureza/noticia/formigas-...  ciencia-e-saude   \n",
       "4  http://g1.globo.com/ciencia-e-saude/noticia/ex...  ciencia-e-saude   \n",
       "\n",
       "                                               texto  \n",
       "0  presidente michel temer afirmou nesta segundaf...  \n",
       "1  vale anunciou manhã desta segundafeira venda a...  \n",
       "2  vendas indústria farmacêutica brasileira cresc...  \n",
       "3  formigas têm sistema navegação gps sofisticado...  \n",
       "4  estranho barulho ártico deixou canadenses intr...  "
      ]
     },
     "execution_count": 19,
     "metadata": {},
     "output_type": "execute_result"
    }
   ],
   "source": [
    "bag_df.head()"
   ]
  },
  {
   "cell_type": "code",
   "execution_count": 20,
   "metadata": {
    "collapsed": false
   },
   "outputs": [
    {
     "name": "stdout",
     "output_type": "stream",
     "text": [
      "<class 'pandas.core.frame.DataFrame'>\n",
      "RangeIndex: 36 entries, 0 to 35\n",
      "Data columns (total 3 columns):\n",
      "link         36 non-null object\n",
      "categoria    36 non-null object\n",
      "texto        36 non-null object\n",
      "dtypes: object(3)\n",
      "memory usage: 936.0+ bytes\n"
     ]
    }
   ],
   "source": [
    "bag_df.info()"
   ]
  },
  {
   "cell_type": "code",
   "execution_count": 21,
   "metadata": {
    "collapsed": false
   },
   "outputs": [
    {
     "data": {
      "text/html": [
       "<div>\n",
       "<table border=\"1\" class=\"dataframe\">\n",
       "  <thead>\n",
       "    <tr style=\"text-align: right;\">\n",
       "      <th></th>\n",
       "      <th>link</th>\n",
       "      <th>categoria</th>\n",
       "      <th>texto</th>\n",
       "    </tr>\n",
       "  </thead>\n",
       "  <tbody>\n",
       "    <tr>\n",
       "      <th>count</th>\n",
       "      <td>36</td>\n",
       "      <td>36</td>\n",
       "      <td>36</td>\n",
       "    </tr>\n",
       "    <tr>\n",
       "      <th>unique</th>\n",
       "      <td>34</td>\n",
       "      <td>6</td>\n",
       "      <td>34</td>\n",
       "    </tr>\n",
       "    <tr>\n",
       "      <th>top</th>\n",
       "      <td>http://g1.globo.com/economia/noticia/president...</td>\n",
       "      <td>tecnologia</td>\n",
       "      <td>ong austrália fez desafio manequim pessoas mal...</td>\n",
       "    </tr>\n",
       "    <tr>\n",
       "      <th>freq</th>\n",
       "      <td>2</td>\n",
       "      <td>9</td>\n",
       "      <td>2</td>\n",
       "    </tr>\n",
       "  </tbody>\n",
       "</table>\n",
       "</div>"
      ],
      "text/plain": [
       "                                                     link   categoria  \\\n",
       "count                                                  36          36   \n",
       "unique                                                 34           6   \n",
       "top     http://g1.globo.com/economia/noticia/president...  tecnologia   \n",
       "freq                                                    2           9   \n",
       "\n",
       "                                                    texto  \n",
       "count                                                  36  \n",
       "unique                                                 34  \n",
       "top     ong austrália fez desafio manequim pessoas mal...  \n",
       "freq                                                    2  "
      ]
     },
     "execution_count": 21,
     "metadata": {},
     "output_type": "execute_result"
    }
   ],
   "source": [
    "bag_df.describe()"
   ]
  },
  {
   "cell_type": "code",
   "execution_count": 22,
   "metadata": {
    "collapsed": true
   },
   "outputs": [],
   "source": [
    "from sklearn.feature_extraction.text import CountVectorizer"
   ]
  },
  {
   "cell_type": "code",
   "execution_count": 23,
   "metadata": {
    "collapsed": true
   },
   "outputs": [],
   "source": [
    "vectorizer = CountVectorizer(analyzer = \"word\", tokenizer = None, preprocessor = None, stop_words = None)"
   ]
  },
  {
   "cell_type": "code",
   "execution_count": 25,
   "metadata": {
    "collapsed": false
   },
   "outputs": [],
   "source": [
    "train_data_features = vectorizer.fit_transform(bag_df.texto)"
   ]
  },
  {
   "cell_type": "code",
   "execution_count": 26,
   "metadata": {
    "collapsed": true
   },
   "outputs": [],
   "source": [
    "train_data_features = train_data_features.toarray()"
   ]
  },
  {
   "cell_type": "code",
   "execution_count": 27,
   "metadata": {
    "collapsed": false
   },
   "outputs": [
    {
     "name": "stdout",
     "output_type": "stream",
     "text": [
      "(36, 2954)\n"
     ]
    }
   ],
   "source": [
    "print train_data_features.shape"
   ]
  },
  {
   "cell_type": "code",
   "execution_count": 28,
   "metadata": {
    "collapsed": true
   },
   "outputs": [],
   "source": [
    "from sklearn.ensemble import RandomForestClassifier"
   ]
  },
  {
   "cell_type": "code",
   "execution_count": 29,
   "metadata": {
    "collapsed": true
   },
   "outputs": [],
   "source": [
    "forest = RandomForestClassifier(n_estimators = 100) "
   ]
  },
  {
   "cell_type": "code",
   "execution_count": 30,
   "metadata": {
    "collapsed": true
   },
   "outputs": [],
   "source": [
    "forest = forest.fit( train_data_features, bag_df.categoria )"
   ]
  },
  {
   "cell_type": "code",
   "execution_count": 31,
   "metadata": {
    "collapsed": false
   },
   "outputs": [
    {
     "data": {
      "text/plain": [
       "<function G1_categorizer.worker>"
      ]
     },
     "execution_count": 31,
     "metadata": {},
     "output_type": "execute_result"
    }
   ],
   "source": [
    "worker"
   ]
  },
  {
   "cell_type": "code",
   "execution_count": 65,
   "metadata": {
    "collapsed": false
   },
   "outputs": [
    {
     "name": "stdout",
     "output_type": "stream",
     "text": [
      "abate suínos país somou milhões cabeças terceiro trimestre deste ano maior desde conforme informou instituto brasileiro geografia estatística ibge nesta quintafeira aumento relação trimestre anterior sobre período regiões santa catarina continua liderando abate suínos seguido rio grande sul paraná produção ovos chegou milhões dúzias maior série histórica indicador iniciada número maior registrado trimestre imediatamente anterior acima terceiro trimestre ranking regiões paulo continua liderando produção ovos seguido minas gerais paraná outro lado abate bovinos chegou milhões cabeças recuo relação trimestre anterior frangos atingiu milhões cabeças queda\n"
     ]
    }
   ],
   "source": [
    "url = 'http://g1.globo.com/economia/agronegocios/noticia/abate-de-suinos-e-producao-de-ovos-e-recorde-no-3-trimestre.ghtml'\n",
    "x = worker(url, stops)\n",
    "print x"
   ]
  },
  {
   "cell_type": "code",
   "execution_count": 66,
   "metadata": {
    "collapsed": false
   },
   "outputs": [
    {
     "name": "stdout",
     "output_type": "stream",
     "text": [
      "  (0, 20)\t1\n",
      "  (0, 148)\t1\n",
      "  (0, 155)\t3\n",
      "  (0, 245)\t1\n",
      "  (0, 267)\t1\n",
      "  (0, 348)\t1\n",
      "  (0, 479)\t2\n",
      "  (0, 592)\t1\n",
      "  (0, 635)\t2\n",
      "  (0, 790)\t1\n",
      "  (0, 811)\t1\n",
      "  (0, 1331)\t1\n",
      "  (0, 1356)\t1\n",
      "  (0, 1412)\t1\n",
      "  (0, 1427)\t1\n",
      "  (0, 1481)\t1\n",
      "  (0, 1504)\t1\n",
      "  (0, 1680)\t3\n",
      "  (0, 1762)\t4\n",
      "  (0, 1767)\t1\n",
      "  (0, 1860)\t1\n",
      "  (0, 1897)\t1\n",
      "  (0, 1960)\t1\n",
      "  (0, 1988)\t2\n",
      "  (0, 2029)\t1\n",
      "  (0, 2032)\t1\n",
      "  (0, 2081)\t1\n",
      "  (0, 2228)\t2\n",
      "  (0, 2299)\t1\n",
      "  (0, 2310)\t1\n",
      "  (0, 2350)\t1\n",
      "  (0, 2378)\t1\n",
      "  (0, 2381)\t2\n",
      "  (0, 2398)\t2\n",
      "  (0, 2453)\t1\n",
      "  (0, 2514)\t2\n",
      "  (0, 2581)\t1\n",
      "  (0, 2600)\t1\n",
      "  (0, 2627)\t1\n",
      "  (0, 2651)\t1\n",
      "  (0, 2690)\t2\n"
     ]
    }
   ],
   "source": [
    "x = vectorizer.transform([x])\n",
    "print x"
   ]
  },
  {
   "cell_type": "code",
   "execution_count": 67,
   "metadata": {
    "collapsed": false
   },
   "outputs": [
    {
     "name": "stdout",
     "output_type": "stream",
     "text": [
      "[[0 0 0 ..., 0 0 0]]\n"
     ]
    }
   ],
   "source": [
    "x = x.toarray()\n",
    "print x"
   ]
  },
  {
   "cell_type": "code",
   "execution_count": 68,
   "metadata": {
    "collapsed": false
   },
   "outputs": [
    {
     "data": {
      "text/plain": [
       "array(['tecnologia'], dtype=object)"
      ]
     },
     "execution_count": 68,
     "metadata": {},
     "output_type": "execute_result"
    }
   ],
   "source": [
    "forest.predict(x)"
   ]
  },
  {
   "cell_type": "code",
   "execution_count": null,
   "metadata": {
    "collapsed": true
   },
   "outputs": [],
   "source": []
  }
 ],
 "metadata": {
  "kernelspec": {
   "display_name": "Python 2",
   "language": "python",
   "name": "python2"
  },
  "language_info": {
   "codemirror_mode": {
    "name": "ipython",
    "version": 2
   },
   "file_extension": ".py",
   "mimetype": "text/x-python",
   "name": "python",
   "nbconvert_exporter": "python",
   "pygments_lexer": "ipython2",
   "version": "2.7.12"
  }
 },
 "nbformat": 4,
 "nbformat_minor": 1
}
